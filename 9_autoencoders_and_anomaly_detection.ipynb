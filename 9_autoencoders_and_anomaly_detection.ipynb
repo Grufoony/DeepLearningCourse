{
  "nbformat": 4,
  "nbformat_minor": 0,
  "metadata": {
    "colab": {
      "provenance": [],
      "include_colab_link": true
    },
    "kernelspec": {
      "name": "python3",
      "display_name": "Python 3"
    },
    "language_info": {
      "name": "python"
    },
    "accelerator": "GPU"
  },
  "cells": [
    {
      "cell_type": "markdown",
      "metadata": {
        "id": "view-in-github",
        "colab_type": "text"
      },
      "source": [
        "<a href=\"https://colab.research.google.com/github/francesco-source/DeepLearning/blob/main/9_autoencoders_and_anomaly_detection.ipynb\" target=\"_parent\"><img src=\"https://colab.research.google.com/assets/colab-badge.svg\" alt=\"Open In Colab\"/></a>"
      ]
    },
    {
      "cell_type": "markdown",
      "metadata": {
        "id": "tdJWYFlSYr2a"
      },
      "source": [
        "In this notebook we build a simple auotencoder for Mnist data, and show how to use it for anomaly detection."
      ]
    },
    {
      "cell_type": "code",
      "metadata": {
        "id": "gfzis0VRTzx4"
      },
      "source": [
        "import tensorflow as tf\n",
        "from tensorflow.keras import layers\n",
        "from tensorflow.keras.models import Model\n",
        "from tensorflow.keras.optimizers import Adam"
      ],
      "execution_count": 25,
      "outputs": []
    },
    {
      "cell_type": "markdown",
      "metadata": {
        "id": "UUejWwcHYqyC"
      },
      "source": [
        "Both the encoder and the decoder are just composed by a couple of dense layers.\n",
        "The latent dimension is 16. This means that each input is reduced from an initial dimensions of 28*28=784 to a an internal dimension of just 16 floats.\n",
        "\n",
        "Most of the relevant information is preserved, as testified by the fact that we are able to reconstruct, out of this 16 values, an image very similar to the original one."
      ]
    },
    {
      "cell_type": "code",
      "metadata": {
        "id": "BTo6QGjpUL-6"
      },
      "source": [
        "# size of our encoded representations\n",
        "encoding_dim = 8\n",
        "mid_dim = 128 #intermidiete dimension\n",
        "\n",
        "# input placeholder\n",
        "input_img = layers.Input(shape=(784,))\n",
        "# \"encoded\" is the encoded representation of the input\n",
        "encoded_1 = layers.Dense(mid_dim, activation='relu')(input_img)\n",
        "encoded_2 = layers.Dense(32,activation = \"relu\")(encoded_1)\n",
        "encoded_3 = layers.Dense(encoding_dim, activation='relu')(encoded_2)\n",
        "# \"decoded\" is the lossy reconstruction of the input, they must be simmetric respect to the encoder.\n",
        "decoded_1 = layers.Dense(32, activation = \"relu\")(encoded_3)\n",
        "decoded_2 = layers.Dense(mid_dim, activation='relu')(decoded_1)\n",
        "decoded_3 = layers.Dense(784, activation='sigmoid')(decoded_2)\n",
        "\n",
        "# this model maps an input to its reconstruction\n",
        "autoencoder= Model(input_img, decoded_3)"
      ],
      "execution_count": 26,
      "outputs": []
    },
    {
      "cell_type": "code",
      "metadata": {
        "id": "pxo-bQN_UpeW",
        "colab": {
          "base_uri": "https://localhost:8080/"
        },
        "outputId": "54335b3b-94ea-42d2-e691-a632abfcb54f"
      },
      "source": [
        "autoencoder.summary()#we have a pregressive reduction of dimension and then we extend it again in order to exctract information again."
      ],
      "execution_count": 27,
      "outputs": [
        {
          "output_type": "stream",
          "name": "stdout",
          "text": [
            "Model: \"model_7\"\n",
            "_________________________________________________________________\n",
            " Layer (type)                Output Shape              Param #   \n",
            "=================================================================\n",
            " input_9 (InputLayer)        [(None, 784)]             0         \n",
            "                                                                 \n",
            " dense_43 (Dense)            (None, 128)               100480    \n",
            "                                                                 \n",
            " dense_44 (Dense)            (None, 32)                4128      \n",
            "                                                                 \n",
            " dense_45 (Dense)            (None, 8)                 264       \n",
            "                                                                 \n",
            " dense_46 (Dense)            (None, 32)                288       \n",
            "                                                                 \n",
            " dense_47 (Dense)            (None, 128)               4224      \n",
            "                                                                 \n",
            " dense_48 (Dense)            (None, 784)               101136    \n",
            "                                                                 \n",
            "=================================================================\n",
            "Total params: 210,520\n",
            "Trainable params: 210,520\n",
            "Non-trainable params: 0\n",
            "_________________________________________________________________\n"
          ]
        }
      ]
    },
    {
      "cell_type": "markdown",
      "metadata": {
        "id": "t6oO__LvanuN"
      },
      "source": [
        "We can now compile the model. \n",
        "\n",
        "As loss function we can take mse or categorical crossentropy, as you prefer. "
      ]
    },
    {
      "cell_type": "code",
      "metadata": {
        "id": "U4ynuGg2U5Yf"
      },
      "source": [
        "adam = Adam(learning_rate=0.001)#learning rate\n",
        "autoencoder.compile(optimizer=adam, loss='mse')#the loss"
      ],
      "execution_count": 30,
      "outputs": []
    },
    {
      "cell_type": "markdown",
      "metadata": {
        "id": "5QkSZJw9bC4M"
      },
      "source": [
        "We now load the datatet, and normalize it in the range [0,1]. We are not using labels."
      ]
    },
    {
      "cell_type": "code",
      "metadata": {
        "colab": {
          "base_uri": "https://localhost:8080/"
        },
        "id": "DrxbCjv_VEr_",
        "outputId": "35ec74ab-b584-46fa-bf19-90c1be7c1511"
      },
      "source": [
        "from keras.datasets import mnist\n",
        "import numpy as np\n",
        "(x_train, _), (x_test, _) = mnist.load_data()\n",
        "\n",
        "x_train = x_train.astype('float32') / 255.\n",
        "x_test = x_test.astype('float32') / 255.\n",
        "# we nromalize and flatten the data.\n",
        "x_train = x_train.reshape((len(x_train), np.prod(x_train.shape[1:])))\n",
        "x_test = x_test.reshape((len(x_test), np.prod(x_test.shape[1:])))\n",
        "print(x_train.shape)\n",
        "print(x_test.shape)"
      ],
      "execution_count": 31,
      "outputs": [
        {
          "output_type": "stream",
          "name": "stdout",
          "text": [
            "(60000, 784)\n",
            "(10000, 784)\n"
          ]
        }
      ]
    },
    {
      "cell_type": "markdown",
      "metadata": {
        "id": "4f0kaHulbS8V"
      },
      "source": [
        "Time to fit the model. Observe that the ground truth we need to compare with is in this case the input itself. In other words, the loss is the distance between the inout $X$ and its reconstruction $\\hat{X}$"
      ]
    },
    {
      "cell_type": "code",
      "metadata": {
        "colab": {
          "base_uri": "https://localhost:8080/"
        },
        "id": "FrHB6uf4VP2D",
        "outputId": "6b111f72-ca30-4cbe-e745-51836bf85fa5"
      },
      "source": [
        "# the fitting operation we use the training data also as label. \n",
        "autoencoder.fit(x_train, x_train,\n",
        "                epochs=20,\n",
        "                batch_size=256,\n",
        "                shuffle=True,\n",
        "                validation_data=(x_test, x_test))"
      ],
      "execution_count": 32,
      "outputs": [
        {
          "output_type": "stream",
          "name": "stdout",
          "text": [
            "Epoch 1/20\n",
            "235/235 [==============================] - 4s 8ms/step - loss: 0.0726 - val_loss: 0.0530\n",
            "Epoch 2/20\n",
            "235/235 [==============================] - 1s 5ms/step - loss: 0.0493 - val_loss: 0.0433\n",
            "Epoch 3/20\n",
            "235/235 [==============================] - 1s 5ms/step - loss: 0.0406 - val_loss: 0.0375\n",
            "Epoch 4/20\n",
            "235/235 [==============================] - 1s 5ms/step - loss: 0.0360 - val_loss: 0.0346\n",
            "Epoch 5/20\n",
            "235/235 [==============================] - 1s 5ms/step - loss: 0.0340 - val_loss: 0.0331\n",
            "Epoch 6/20\n",
            "235/235 [==============================] - 1s 5ms/step - loss: 0.0328 - val_loss: 0.0322\n",
            "Epoch 7/20\n",
            "235/235 [==============================] - 1s 5ms/step - loss: 0.0318 - val_loss: 0.0310\n",
            "Epoch 8/20\n",
            "235/235 [==============================] - 1s 5ms/step - loss: 0.0304 - val_loss: 0.0296\n",
            "Epoch 9/20\n",
            "235/235 [==============================] - 1s 5ms/step - loss: 0.0294 - val_loss: 0.0288\n",
            "Epoch 10/20\n",
            "235/235 [==============================] - 1s 5ms/step - loss: 0.0287 - val_loss: 0.0283\n",
            "Epoch 11/20\n",
            "235/235 [==============================] - 1s 6ms/step - loss: 0.0282 - val_loss: 0.0279\n",
            "Epoch 12/20\n",
            "235/235 [==============================] - 1s 6ms/step - loss: 0.0278 - val_loss: 0.0276\n",
            "Epoch 13/20\n",
            "235/235 [==============================] - 1s 5ms/step - loss: 0.0275 - val_loss: 0.0273\n",
            "Epoch 14/20\n",
            "235/235 [==============================] - 1s 5ms/step - loss: 0.0271 - val_loss: 0.0266\n",
            "Epoch 15/20\n",
            "235/235 [==============================] - 1s 5ms/step - loss: 0.0263 - val_loss: 0.0259\n",
            "Epoch 16/20\n",
            "235/235 [==============================] - 1s 5ms/step - loss: 0.0257 - val_loss: 0.0254\n",
            "Epoch 17/20\n",
            "235/235 [==============================] - 1s 5ms/step - loss: 0.0252 - val_loss: 0.0250\n",
            "Epoch 18/20\n",
            "235/235 [==============================] - 1s 5ms/step - loss: 0.0249 - val_loss: 0.0247\n",
            "Epoch 19/20\n",
            "235/235 [==============================] - 1s 5ms/step - loss: 0.0247 - val_loss: 0.0245\n",
            "Epoch 20/20\n",
            "235/235 [==============================] - 1s 5ms/step - loss: 0.0245 - val_loss: 0.0243\n"
          ]
        },
        {
          "output_type": "execute_result",
          "data": {
            "text/plain": [
              "<keras.callbacks.History at 0x7fc920509070>"
            ]
          },
          "metadata": {},
          "execution_count": 32
        }
      ]
    },
    {
      "cell_type": "markdown",
      "metadata": {
        "id": "9yXRGD2rb-gd"
      },
      "source": [
        "Let us check the result.\n",
        "\n",
        "First of all we conpute all reconstructions for images in the test set."
      ]
    },
    {
      "cell_type": "code",
      "metadata": {
        "id": "drKSjCmIVkr7",
        "outputId": "8b9cefc2-0f4d-4a5f-f1af-8f658c6d531a",
        "colab": {
          "base_uri": "https://localhost:8080/"
        }
      },
      "source": [
        "decoded_imgs = autoencoder.predict(x_test)"
      ],
      "execution_count": 34,
      "outputs": [
        {
          "output_type": "stream",
          "name": "stdout",
          "text": [
            "313/313 [==============================] - 1s 2ms/step\n"
          ]
        }
      ]
    },
    {
      "cell_type": "markdown",
      "metadata": {
        "id": "DMBrchCtcRhL"
      },
      "source": [
        "Now we can plot the result. We pick ten random images, and for each of them we show the original and the reconstruction obtained from the autoencoder."
      ]
    },
    {
      "cell_type": "code",
      "metadata": {
        "id": "2I8qdO3rV9OE",
        "colab": {
          "base_uri": "https://localhost:8080/",
          "height": 336
        },
        "outputId": "d8ed7371-e491-49cb-dd86-562067443b49"
      },
      "source": [
        "import matplotlib.pyplot as plt\n",
        "\n",
        "n = 10 #no images to plot\n",
        "imgs = np.random.randint(low=0,high=10000,size=n)\n",
        "plt.figure(figsize=(20, 4))\n",
        "for (i,idx) in enumerate(imgs):\n",
        "    # display original\n",
        "    ax = plt.subplot(2, n, i + 1)\n",
        "    plt.imshow(x_test[idx].reshape(28, 28))\n",
        "    plt.gray()\n",
        "    ax.get_xaxis().set_visible(False)\n",
        "    ax.get_yaxis().set_visible(False)\n",
        "\n",
        "    # display reconstruction\n",
        "    ax = plt.subplot(2, n, i + 1 + n)\n",
        "    plt.imshow(decoded_imgs[idx].reshape(28, 28))\n",
        "    plt.gray()\n",
        "    ax.get_xaxis().set_visible(False)\n",
        "    ax.get_yaxis().set_visible(False)\n",
        "plt.show()\n",
        "#noe perfect but the compression was aggressive because we passed from 784 to 8. "
      ],
      "execution_count": 37,
      "outputs": [
        {
          "output_type": "display_data",
          "data": {
            "text/plain": [
              "<Figure size 2000x400 with 20 Axes>"
            ],
            "image/png": "[encoded data removed]"
          },
          "metadata": {}
        }
      ]
    },
    {
      "cell_type": "markdown",
      "metadata": {
        "id": "hkRApEXofHuz"
      },
      "source": [
        "# Anomaly detection\n",
        "\n",
        "We want now to show how we can use an autoencoder for anomaly detection.\n",
        "\n",
        "The genral idea is that the encoding learned by the autoenoder is data-specific. This means that if we apply the autoencoder to an outlier, the resulting reconstruction should be sensibily worse than usual, and we may exploit this simple fact to detect the anomaly."
      ]
    },
    {
      "cell_type": "markdown",
      "metadata": {
        "id": "RvuJQDk6f9dY"
      },
      "source": [
        "The first step of the procedure is to identify the canonical expected reconstruction error on true data, and the associated standard deviation."
      ]
    },
    {
      "cell_type": "code",
      "metadata": {
        "colab": {
          "base_uri": "https://localhost:8080/"
        },
        "id": "9P1yRXhTgWj1",
        "outputId": "9d1db579-cbbf-4f17-a836-fb89f921105d"
      },
      "source": [
        "mse_all = np.mean(np.square(decoded_imgs - x_test),axis=1) #mean error for each input\n",
        "print(mse_all.shape) \n",
        "mse = np.mean(mse_all)\n",
        "std = np.std(mse_all)\n",
        "print(\"mse is {}, with a standard deviation of {}\".format(mse,std))"
      ],
      "execution_count": 38,
      "outputs": [
        {
          "output_type": "stream",
          "name": "stdout",
          "text": [
            "(10000,)\n",
            "mse is 0.02428998053073883, with a standard deviation of 0.012674313969910145\n"
          ]
        }
      ]
    },
    {
      "cell_type": "markdown",
      "metadata": {
        "id": "rfydyrtLh-Eh"
      },
      "source": [
        "Now we create an \"anomaly\". We simply take a normal image from the dataset, and rotate it of 90 degrees. \n",
        "\n",
        "For this example, we use image no 15 in the test set."
      ]
    },
    {
      "cell_type": "code",
      "metadata": {
        "colab": {
          "base_uri": "https://localhost:8080/",
          "height": 353
        },
        "id": "Znt0h6BFiqjl",
        "outputId": "0d31af8c-65ae-4d4e-f902-784b5142fcdd"
      },
      "source": [
        "test = x_test[15].reshape(1,784)\n",
        "print(autoencoder.evaluate(test,test))\n",
        "\n",
        "plt.figure(figsize=(8,4))\n",
        "ax = plt.subplot(1,2,1)\n",
        "plt.imshow(x_test[15].reshape(28, 28))\n",
        "plt.gray()\n",
        "ax.get_xaxis().set_visible(False)\n",
        "ax.get_yaxis().set_visible(False)\n",
        "ax = plt.subplot(1, 2, 2)\n",
        "plt.imshow(decoded_imgs[15].reshape(28, 28))\n",
        "plt.gray()\n",
        "ax.get_xaxis().set_visible(False)\n",
        "ax.get_yaxis().set_visible(False)\n",
        "plt.savefig('lyar1.jpg')\n",
        "plt.show()"
      ],
      "execution_count": 39,
      "outputs": [
        {
          "output_type": "stream",
          "name": "stdout",
          "text": [
            "1/1 [==============================] - 0s 36ms/step - loss: 0.0322\n",
            "0.0321650393307209\n"
          ]
        },
        {
          "output_type": "display_data",
          "data": {
            "text/plain": [
              "<Figure size 800x400 with 2 Axes>"
            ],
            "image/png": "[encoded data removed]"
          },
          "metadata": {}
        }
      ]
    },
    {
      "cell_type": "markdown",
      "metadata": {
        "id": "NUCMrEjCi7gq"
      },
      "source": [
        "Observe that the reconstruction is not particularly good, but still the loss (0.207) is more or less on std away from the mean, that is a normal behaviour.\n",
        "\n",
        "Now, let us rotate it and repeat the computation."
      ]
    },
    {
      "cell_type": "code",
      "metadata": {
        "colab": {
          "base_uri": "https://localhost:8080/",
          "height": 335
        },
        "id": "V2jM4Hfzjfju",
        "outputId": "c0868cb2-5380-49d9-c147-a302336d7eee"
      },
      "source": [
        "rotated = np.rot90(x_test[15].reshape(28,28))\n",
        "predicted = autoencoder.predict(rotated.reshape(1,784))[0].reshape(28,28)\n",
        "\n",
        "plt.figure(figsize=(8,4))\n",
        "ax = plt.subplot(1,2,1)\n",
        "plt.imshow(rotated)\n",
        "plt.gray()\n",
        "ax.get_xaxis().set_visible(False)\n",
        "ax.get_yaxis().set_visible(False)\n",
        "ax = plt.subplot(1, 2, 2)\n",
        "plt.imshow(predicted)\n",
        "plt.gray()\n",
        "ax.get_xaxis().set_visible(False)\n",
        "ax.get_yaxis().set_visible(False)\n",
        "plt.savefig('lyar2.jpg')\n",
        "plt.show()\n",
        "# doen't look anymore similar to that 5. This is what it's produces. the error of the reconstruction is very height. We are 3 standard deviations avay from the mean value of the error.\n",
        "# We can say that this is an oulier. Something that the net has never seen before. Effective technique to detect outliers, this is becausw it was trained to detect mnist digits.\n",
        "#Other applications are denoising. "
      ],
      "execution_count": 40,
      "outputs": [
        {
          "output_type": "stream",
          "name": "stdout",
          "text": [
            "1/1 [==============================] - 0s 18ms/step\n"
          ]
        },
        {
          "output_type": "display_data",
          "data": {
            "text/plain": [
              "<Figure size 800x400 with 2 Axes>"
            ],
            "image/png": "[encoded data removed]"
          },
          "metadata": {}
        }
      ]
    },
    {
      "cell_type": "code",
      "metadata": {
        "colab": {
          "base_uri": "https://localhost:8080/"
        },
        "id": "lLpUNUAvkSV9",
        "outputId": "dfcc2fff-e565-4182-eeb0-883ccf84869e"
      },
      "source": [
        "mse = np.mean(np.square(predicted-rotated))\n",
        "print(\"mse is {}\".format(mse))"
      ],
      "execution_count": 41,
      "outputs": [
        {
          "output_type": "stream",
          "name": "stdout",
          "text": [
            "mse is 0.06466783583164215\n"
          ]
        }
      ]
    },
    {
      "cell_type": "markdown",
      "metadata": {
        "id": "QBuqr7o5ksM5"
      },
      "source": [
        "The mse in this case is 0.052, more than 3 std away form the mean, that is surely an anomaly!!"
      ]
    },
    {
      "cell_type": "markdown",
      "metadata": {
        "id": "ZpwnCIrkk601"
      },
      "source": [
        "Let us finally observe that, instead of using mean and variance of reconstruction errors, we could have directly worked in the latent space.\n",
        "\n",
        "In fact, autoencoders generalize Principal Component Ananlysis, extracting relevant, non linear combinations of the input features. Any anomaly will \n",
        "sensibibly discost from canonical values of the latent encoding."
      ]
    }
  ]
}