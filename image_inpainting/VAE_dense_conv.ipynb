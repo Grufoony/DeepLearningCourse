{
  "nbformat": 4,
  "nbformat_minor": 0,
  "metadata": {
    "colab": {
      "provenance": [],
      "gpuType": "T4",
      "include_colab_link": true
    },
    "kernelspec": {
      "name": "python3",
      "display_name": "Python 3"
    },
    "language_info": {
      "name": "python"
    },
    "accelerator": "GPU",
    "gpuClass": "standard"
  },
  "cells": [
    {
      "cell_type": "markdown",
      "metadata": {
        "id": "view-in-github",
        "colab_type": "text"
      },
      "source": [
        "<a href=\"https://colab.research.google.com/github/francesco-source/DeepLearning/blob/main/image_inpainting/VAE_dense_conv.ipynb\" target=\"_parent\"><img src=\"https://colab.research.google.com/assets/colab-badge.svg\" alt=\"Open In Colab\"/></a>"
      ]
    },
    {
      "cell_type": "code",
      "execution_count": null,
      "metadata": {
        "id": "JF4mj6fDyV3S"
      },
      "outputs": [],
      "source": [
        "import tensorflow as tf\n",
        "from tensorflow.keras import layers\n",
        "from tensorflow.keras import Model\n",
        "from tensorflow.keras import backend as K\n",
        "from tensorflow.keras import metrics\n",
        "from tensorflow.keras import utils\n",
        "from keras.datasets import mnist\n",
        "import numpy as np\n",
        "import matplotlib.pyplot as plt\n",
        "\n",
        "import tensorflow as tf\n",
        "from tensorflow import keras\n",
        "import numpy as np\n",
        "import matplotlib.pyplot as plt\n",
        "from tensorflow.keras import layers, models, metrics\n",
        "from tensorflow.keras.optimizers import Adam\n",
        "from keras import callbacks\n",
        "from tensorflow.keras.datasets import cifar10\n",
        "from tensorflow.keras.utils import plot_model"
      ]
    },
    {
      "cell_type": "code",
      "source": [
        "(x_train, y_train), (x_test, y_test) = cifar10.load_data()\n",
        "print(\"image range is {}, {}\".format(np.min(x_test,axis=(0,1,2,3)),np.max(x_test,axis=(0,1,2,3))))\n",
        "x_train = (x_train/255.).astype(np.float32)\n",
        "x_test = (x_test/255.).astype(np.float32)\n",
        "print(\"new image range is {}, {}\".format(np.min(x_test,axis=(0,1,2,3)),np.max(x_test,axis=(0,1,2,3))))"
      ],
      "metadata": {
        "colab": {
          "base_uri": "https://localhost:8080/"
        },
        "id": "4UEJ_3nzyfXE",
        "outputId": "78e50b13-cfe8-45c1-82b3-b898f513e6fd"
      },
      "execution_count": null,
      "outputs": [
        {
          "output_type": "stream",
          "name": "stdout",
          "text": [
            "Downloading data from https://www.cs.toronto.edu/~kriz/cifar-10-python.tar.gz\n",
            "170498071/170498071 [==============================] - 13s 0us/step\n",
            "image range is 0, 255\n",
            "new image range is 0.0, 1.0\n"
          ]
        }
      ]
    },
    {
      "cell_type": "code",
      "source": [
        "def mask(X,coords):\n",
        "  x0,y0,x1,y1 = coords\n",
        "  X[:,x0:x1,y0:y1] = 0\n",
        "  return X\n",
        "\n",
        "masked_x_train = mask(np.copy(x_train),(2,16,30,30))\n",
        "masked_x_test = mask(np.copy(x_test),(2,16,30,30))\n",
        "\n",
        "x_train.shape\n",
        "masked_x_train.shape"
      ],
      "metadata": {
        "colab": {
          "base_uri": "https://localhost:8080/"
        },
        "id": "SyeguB_dypIb",
        "outputId": "553069e4-5f3c-440a-e68b-868f7369e1d0"
      },
      "execution_count": null,
      "outputs": [
        {
          "output_type": "execute_result",
          "data": {
            "text/plain": [
              "(50000, 32, 32, 3)"
            ]
          },
          "metadata": {},
          "execution_count": 3
        }
      ]
    },
    {
      "cell_type": "code",
      "source": [
        "def sampling(args):\n",
        "    z_mean, z_log_var = args\n",
        "    epsilon = K.random_normal(shape=(K.shape(z_mean)[0], latent_dim), mean=0.,\n",
        "                              stddev=1.)\n",
        "    return z_mean + K.exp(z_log_var / 2) * epsilon"
      ],
      "metadata": {
        "id": "c2all2KIyufQ"
      },
      "execution_count": null,
      "outputs": []
    },
    {
      "cell_type": "code",
      "source": [
        "input_dim = 32*32*3\n",
        "\n",
        "latent_dim = 16\n",
        "intermediate_dim_1 = 64\n",
        "intermediate_dim_2 = 128"
      ],
      "metadata": {
        "id": "ezYUMU4Ty6qU"
      },
      "execution_count": null,
      "outputs": []
    },
    {
      "cell_type": "code",
      "source": [
        "x = layers.Input(shape=(input_dim,))\n",
        "x_reshaped = layers.Reshape((32, 32, 3), input_shape=(input_dim,))(x)\n",
        "\n",
        "h = layers.Conv2D(8, kernel_size=7, activation='swish', padding='same')(x_reshaped)\n",
        "h = layers.MaxPooling2D(pool_size=2)(h)\n",
        "h = layers.Conv2D(16, kernel_size=7, activation='swish', padding='same')(h)\n",
        "h = layers.MaxPooling2D(pool_size=2)(h)\n",
        "h = layers.Flatten()(h)\n",
        "h = layers.Dense(intermediate_dim_1, activation='swish')(h)\n",
        "h = layers.Dense(intermediate_dim_2, activation='swish')(h)\n",
        "z_mean = layers.Dense(latent_dim)(h)\n",
        "z_log_var = layers.Dense(latent_dim)(h)\n",
        "\n",
        "encoder = Model(x, [z_mean, z_log_var])"
      ],
      "metadata": {
        "id": "X651FnCty4nE"
      },
      "execution_count": null,
      "outputs": []
    },
    {
      "cell_type": "code",
      "source": [
        "z = layers.Input(shape=(latent_dim,))\n",
        "dec_mid_1 = layers.Dense(intermediate_dim_2, activation='swish')(z)\n",
        "dec_mid_2 = layers.Dense(intermediate_dim_1, activation='swish')(dec_mid_1)\n",
        "reshape = layers.Reshape((8,8,1))(dec_mid_2)\n",
        "dec_deconv1 = layers.Conv2DTranspose(filters=64, kernel_size=3, strides=1, activation='swish', padding='same')(reshape)\n",
        "dec_deconv2 = layers.Conv2DTranspose(filters=32, kernel_size=3, strides=1, activation='swish', padding='same')(dec_deconv1)\n",
        "flat = layers.Flatten()(dec_deconv2)\n",
        "x_hat = layers.Dense(input_dim,activation='sigmoid')(flat)\n",
        "\n",
        "decoder = Model(inputs=z, outputs=[x_hat])"
      ],
      "metadata": {
        "id": "_N_dO1iqzk9Z"
      },
      "execution_count": null,
      "outputs": []
    },
    {
      "cell_type": "code",
      "source": [
        "m = layers.Input(shape=(input_dim,))\n",
        "z_mean, z_log_var = encoder(m)\n",
        "z = layers.Lambda(sampling, output_shape=(latent_dim,))([z_mean, z_log_var])\n",
        "x_hat = decoder(z)\n",
        "\n",
        "vae = Model(m,x_hat)"
      ],
      "metadata": {
        "id": "rHAGIWvC1euk"
      },
      "execution_count": null,
      "outputs": []
    },
    {
      "cell_type": "code",
      "source": [
        "beta = 1. #a balancing factor\n",
        "rec_loss = input_dim * metrics.mean_squared_error(m, x_hat)\n",
        "kl_loss = - 0.5 * K.sum(1 + z_log_var - K.square(z_mean) - K.exp(z_log_var), axis=-1)\n",
        "vae_loss = K.mean(rec_loss + beta * kl_loss)\n",
        "vae.add_loss(vae_loss)"
      ],
      "metadata": {
        "id": "3fNwH8391LdA"
      },
      "execution_count": null,
      "outputs": []
    },
    {
      "cell_type": "code",
      "source": [
        "batch_size = 100\n",
        "epochs = 20"
      ],
      "metadata": {
        "id": "MfoDoefDG2HA"
      },
      "execution_count": null,
      "outputs": []
    },
    {
      "cell_type": "code",
      "source": [
        "vae.compile(optimizer=Adam(learning_rate=0.0001),metrics = [\"mse\"])"
      ],
      "metadata": {
        "id": "JMBsAl35G5GS"
      },
      "execution_count": null,
      "outputs": []
    },
    {
      "cell_type": "code",
      "source": [
        "# Flatten the input images\n",
        "masked_x_train_flat = masked_x_train.reshape(-1, input_dim)\n",
        "x_train_flat = x_train.reshape(-1, input_dim)\n",
        "\n",
        "# Train the VAE model\n",
        "vae.fit(masked_x_train_flat, x_train_flat, shuffle = True, epochs=epochs, batch_size=batch_size, validation_split=0.1)\n"
      ],
      "metadata": {
        "colab": {
          "base_uri": "https://localhost:8080/"
        },
        "id": "ITdL2IrmG_pc",
        "outputId": "471c060c-2bf6-48bd-9dbd-4791f2a9bc60"
      },
      "execution_count": null,
      "outputs": [
        {
          "output_type": "stream",
          "name": "stdout",
          "text": [
            "Epoch 1/20\n",
            "450/450 [==============================] - 18s 9ms/step - loss: 149.9712 - mse: 0.1251 - val_loss: 91.6405 - val_mse: 0.1328\n",
            "Epoch 2/20\n",
            "450/450 [==============================] - 4s 9ms/step - loss: 81.4014 - mse: 0.1301 - val_loss: 73.1037 - val_mse: 0.1274\n",
            "Epoch 3/20\n",
            "450/450 [==============================] - 3s 8ms/step - loss: 70.0025 - mse: 0.1269 - val_loss: 67.6949 - val_mse: 0.1260\n",
            "Epoch 4/20\n",
            "450/450 [==============================] - 3s 7ms/step - loss: 67.4119 - mse: 0.1265 - val_loss: 65.5086 - val_mse: 0.1255\n",
            "Epoch 5/20\n",
            "450/450 [==============================] - 4s 8ms/step - loss: 65.4974 - mse: 0.1260 - val_loss: 63.0596 - val_mse: 0.1248\n",
            "Epoch 6/20\n",
            "450/450 [==============================] - 4s 8ms/step - loss: 63.4224 - mse: 0.1252 - val_loss: 61.8800 - val_mse: 0.1243\n",
            "Epoch 7/20\n",
            "450/450 [==============================] - 3s 7ms/step - loss: 62.4707 - mse: 0.1249 - val_loss: 61.0702 - val_mse: 0.1240\n",
            "Epoch 8/20\n",
            "450/450 [==============================] - 3s 7ms/step - loss: 61.0302 - mse: 0.1243 - val_loss: 59.5824 - val_mse: 0.1233\n",
            "Epoch 9/20\n",
            "450/450 [==============================] - 4s 9ms/step - loss: 60.0660 - mse: 0.1239 - val_loss: 59.0718 - val_mse: 0.1232\n",
            "Epoch 10/20\n",
            "450/450 [==============================] - 3s 8ms/step - loss: 59.0285 - mse: 0.1234 - val_loss: 57.4535 - val_mse: 0.1224\n",
            "Epoch 11/20\n",
            "450/450 [==============================] - 5s 10ms/step - loss: 57.8154 - mse: 0.1228 - val_loss: 56.9899 - val_mse: 0.1221\n",
            "Epoch 12/20\n",
            "450/450 [==============================] - 6s 14ms/step - loss: 57.2188 - mse: 0.1226 - val_loss: 56.1604 - val_mse: 0.1218\n",
            "Epoch 13/20\n",
            "450/450 [==============================] - 4s 8ms/step - loss: 56.0008 - mse: 0.1221 - val_loss: 55.0784 - val_mse: 0.1213\n",
            "Epoch 14/20\n",
            "450/450 [==============================] - 3s 7ms/step - loss: 55.2349 - mse: 0.1217 - val_loss: 54.2833 - val_mse: 0.1210\n",
            "Epoch 15/20\n",
            "450/450 [==============================] - 4s 9ms/step - loss: 54.7883 - mse: 0.1216 - val_loss: 53.9985 - val_mse: 0.1209\n",
            "Epoch 16/20\n",
            "450/450 [==============================] - 4s 8ms/step - loss: 54.2789 - mse: 0.1213 - val_loss: 53.4889 - val_mse: 0.1206\n",
            "Epoch 17/20\n",
            "450/450 [==============================] - 3s 7ms/step - loss: 53.9488 - mse: 0.1212 - val_loss: 53.3148 - val_mse: 0.1205\n",
            "Epoch 18/20\n",
            "450/450 [==============================] - 4s 8ms/step - loss: 53.7437 - mse: 0.1211 - val_loss: 53.2000 - val_mse: 0.1205\n",
            "Epoch 19/20\n",
            "450/450 [==============================] - 4s 9ms/step - loss: 53.5657 - mse: 0.1210 - val_loss: 52.8082 - val_mse: 0.1204\n",
            "Epoch 20/20\n",
            "450/450 [==============================] - 4s 8ms/step - loss: 53.3225 - mse: 0.1210 - val_loss: 52.6288 - val_mse: 0.1203\n"
          ]
        },
        {
          "output_type": "execute_result",
          "data": {
            "text/plain": [
              "<keras.callbacks.History at 0x7fcc59f27730>"
            ]
          },
          "metadata": {},
          "execution_count": 12
        }
      ]
    },
    {
      "cell_type": "code",
      "source": [
        "masked_x_test_flat = masked_x_test.reshape(-1, input_dim)\n",
        "\n",
        "predictions = vae.predict(x=masked_x_test_flat, verbose=0)"
      ],
      "metadata": {
        "id": "Vx5WtolBZsvz"
      },
      "execution_count": null,
      "outputs": []
    },
    {
      "cell_type": "code",
      "source": [
        "prediction = predictions[0].reshape((32,32,3))\n",
        "\n",
        "\n",
        "plt.subplot(1,2,1)\n",
        "plt.imshow(prediction)\n",
        "plt.subplot(1,2,2)\n",
        "plt.imshow(x_test[0])"
      ],
      "metadata": {
        "colab": {
          "base_uri": "https://localhost:8080/",
          "height": 305
        },
        "id": "AUe8gcQIfopg",
        "outputId": "ab439c57-0446-44e7-edcd-9844eb3ed397"
      },
      "execution_count": null,
      "outputs": [
        {
          "output_type": "execute_result",
          "data": {
            "text/plain": [
              "<matplotlib.image.AxesImage at 0x7fcc306616f0>"
            ]
          },
          "metadata": {},
          "execution_count": 14
        },
        {
          "output_type": "display_data",
          "data": {
            "text/plain": [
              "<Figure size 640x480 with 2 Axes>"
            ],
            "image/png": "[encoded data removed]"
          },
          "metadata": {}
        }
      ]
    },
    {
      "cell_type": "markdown",
      "source": [
        "Doesn't work at all"
      ],
      "metadata": {
        "id": "cigpB_-2pmus"
      }
    }
  ]
}