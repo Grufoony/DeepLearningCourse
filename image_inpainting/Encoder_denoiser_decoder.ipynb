{
  "nbformat": 4,
  "nbformat_minor": 0,
  "metadata": {
    "colab": {
      "provenance": [],
      "gpuType": "T4",
      "authorship_tag": "ABX9TyPKJS9FrNeEfgL6+ccbBJha",
      "include_colab_link": true
    },
    "kernelspec": {
      "name": "python3",
      "display_name": "Python 3"
    },
    "language_info": {
      "name": "python"
    },
    "accelerator": "GPU",
    "gpuClass": "standard"
  },
  "cells": [
    {
      "cell_type": "markdown",
      "metadata": {
        "id": "view-in-github",
        "colab_type": "text"
      },
      "source": [
        "<a href=\"https://colab.research.google.com/github/francesco-source/DeepLearning/blob/main/image_inpainting/Encoder_denoiser_decoder.ipynb\" target=\"_parent\"><img src=\"https://colab.research.google.com/assets/colab-badge.svg\" alt=\"Open In Colab\"/></a>"
      ]
    },
    {
      "cell_type": "markdown",
      "source": [
        "# Exercise for image inpainting"
      ],
      "metadata": {
        "id": "89fDeD0EsBej"
      }
    },
    {
      "cell_type": "code",
      "execution_count": 2,
      "metadata": {
        "id": "1xKOMwz5qkXo"
      },
      "outputs": [],
      "source": [
        "import tensorflow as tf\n",
        "from tensorflow import keras\n",
        "import numpy as np\n",
        "import matplotlib.pyplot as plt\n",
        "from tensorflow.keras import layers, models, metrics\n",
        "from tensorflow.keras.optimizers import Adam\n",
        "from keras import callbacks\n",
        "from tensorflow.keras.datasets import cifar10\n",
        "from tensorflow.keras.utils import plot_model"
      ]
    },
    {
      "cell_type": "code",
      "source": [
        "(x_train, y_train), (x_test, y_test) = cifar10.load_data()\n",
        "print(\"image range is {}, {}\".format(np.min(x_test,axis=(0,1,2,3)),np.max(x_test,axis=(0,1,2,3))))\n",
        "x_train = (x_train/255.).astype(np.float32)\n",
        "x_test = (x_test/255.).astype(np.float32)\n",
        "print(\"new image range is {}, {}\".format(np.min(x_test,axis=(0,1,2,3)),np.max(x_test,axis=(0,1,2,3))))\n",
        "\n",
        "def mask(X,coords):\n",
        "  x0,y0,x1,y1 = coords\n",
        "  X[:,x0:x1,y0:y1] = 0\n",
        "  return X\n",
        "\n",
        "\n",
        "masked_x_train = mask(np.copy(x_train),(2,16,30,30))\n",
        "masked_x_test = mask(np.copy(x_test),(2,16,30,30))"
      ],
      "metadata": {
        "colab": {
          "base_uri": "https://localhost:8080/"
        },
        "id": "232ruA6krEDk",
        "outputId": "67ccafaa-4a55-430f-a264-8f52328bd50f"
      },
      "execution_count": 3,
      "outputs": [
        {
          "output_type": "stream",
          "name": "stdout",
          "text": [
            "Downloading data from https://www.cs.toronto.edu/~kriz/cifar-10-python.tar.gz\n",
            "170498071/170498071 [==============================] - 5s 0us/step\n",
            "image range is 0, 255\n",
            "new image range is 0.0, 1.0\n"
          ]
        }
      ]
    },
    {
      "cell_type": "code",
      "source": [
        "\n",
        "def display_history(history):\n",
        "    mse_training = history.history['loss']\n",
        "\n",
        "    mse_val = history.history['val_loss']\n",
        "\n",
        "    # Visualize the behavior of the loss\n",
        "    plt.plot(mse_training)\n",
        "    plt.plot(mse_val)\n",
        "    plt.grid()\n",
        "    plt.title('Loss during training/validation')\n",
        "    plt.xlabel('Epoch')\n",
        "    plt.legend(['Training', 'Validation'])\n",
        "    plt.show()"
      ],
      "metadata": {
        "id": "_ydhbyBS1KrZ"
      },
      "execution_count": 9,
      "outputs": []
    },
    {
      "cell_type": "markdown",
      "source": [
        "# Model 1 \n",
        "Searching around I found an interesting paper\n",
        " on a Gaussian noise removal from both grayscale and color images, so I tried to implement a network following the paper proposed network.\n",
        " The architecture is basically devided in 3 parts.\n",
        " \n",
        "1. Classifier, a CNN classifier, not for classifing, but for extracting discriminative images features, that are used the the second part\n",
        "2. Denoiser, it explicity removes the noise from image features learned in the first part.\n",
        "3. Decoder, it is needed to map back the denoised image features into the image pixels."
      ],
      "metadata": {
        "id": "HKUMK-udrG8P"
      }
    },
    {
      "cell_type": "code",
      "source": [
        "class FirstModel(tf.keras.Model):\n",
        "  def __init__(self):\n",
        "    super(FirstModel,self).__init__()\n",
        "    #Classfier\n",
        "    self.conv1 = tf.keras.layers.Conv2D(96,(3,3),padding = \"same\",activation = \"relu\")\n",
        "    self.conv2 = tf.keras.layers.Conv2D(64,(3,3),padding = \"same\", activation = \"relu\")\n",
        "    self.conv3 = tf.keras.layers.Conv2D(64,(5,5),padding = \"same\",activation = \"relu\")\n",
        "\n",
        "    self.bn1 = tf.keras.layers.BatchNormalization()\n",
        "\n",
        "    self.conv4 = tf.keras.layers.Conv2D(190,(3,3),padding = \"same\", activation = \"relu\")\n",
        "\n",
        "    self.maxpool1 = tf.keras.layers.MaxPool2D(pool_size = (2,2))\n",
        "\n",
        "    # Denoiser \n",
        "\n",
        "    self.conv5 = tf.keras.layers.Conv2D(190,(3,3), padding = \"same\", activation = \"relu\")\n",
        "    self.conv6 = tf.keras.layers.Conv2D(190,(3,3),padding = \"same\", activation = \"sigmoid\")\n",
        "\n",
        "    #Decoder \n",
        "    self.conv7 = tf.keras.layers.Conv2D(256, (3, 3), padding='same', activation='relu')\n",
        "\n",
        "    self.conv8 = tf.keras.layers.Conv2D(128, (3, 3), padding='same', activation='relu')\n",
        "    self.conv9 = tf.keras.layers.Conv2D(128, (5, 5), padding='same', activation='relu')\n",
        "\n",
        "    self.conv10 = tf.keras.layers.Conv2D(256, (3, 3), padding='same', activation='relu')\n",
        "    self.conv11 = tf.keras.layers.Conv2D(256, (3, 3), padding='same', activation='relu')\n",
        "\n",
        "    self.upsample1 = tf.keras.layers.UpSampling2D((2, 2))\n",
        "\n",
        "    self.conv12 = tf.keras.layers.Conv2D(3, (3, 3), padding='same', activation='sigmoid')\n",
        "\n",
        "  def call(self,inputs):\n",
        "\n",
        "    output1 = self.conv1(inputs)\n",
        "\n",
        "    output2 = self.conv2(output1)\n",
        "    output3 = self.conv3(output2)\n",
        "\n",
        "    output4 = tf.keras.layers.concatenate([output2, output3])\n",
        "    output4 = self.bn1(output4)\n",
        "    output4 = self.conv4(output4)\n",
        "    output4 = self.maxpool1(output4)\n",
        "    output4 = self.conv5(output4)\n",
        "    output4 = self.conv6(output4)\n",
        "    output4 = self.conv7(output4)\n",
        "\n",
        "    output5 = self.conv8(output4)\n",
        "    output6 = self.conv9(output4)\n",
        "\n",
        "    output7 = tf.keras.layers.concatenate([output5, output6])\n",
        "    output7 = self.conv10(output7)\n",
        "    output7 = self.conv11(output7)\n",
        "    output7 = self.upsample1(output7)\n",
        "    output7 = self.conv12(output7)\n",
        "\n",
        "    return output7\n",
        "\n",
        "\n",
        "first_model = FirstModel()\n",
        "first_model.build(input_shape=(None, 32, 32, 3))\n",
        "first_model.summary()"
      ],
      "metadata": {
        "id": "Ak-cDu0dsN9v"
      },
      "execution_count": null,
      "outputs": []
    },
    {
      "cell_type": "markdown",
      "source": [
        "I used the Adam optimizers with learning rate 0.0001, and the MSE as loss because we want to minimize that.\n",
        "\n",
        "The validation split is set to 0.1, so the 10% of the train dataset is the validation datset, the epochs are 10, with an earlystopping in order to avoid overfitting."
      ],
      "metadata": {
        "id": "i9KtGRjHvLTx"
      }
    },
    {
      "cell_type": "code",
      "source": [
        "first_model_callback = tf.keras.callbacks.EarlyStopping(patience = 3)\n",
        "\n",
        "first_model.compile(optimizer=tf.keras.optimizers.Adam(learning_rate=1e-4),\n",
        "                   loss=tf.keras.losses.MSE)\n",
        "\n",
        "first_history = first_model.fit(masked_x_train, x_train,  validation_split=0.1, epochs=5 ,batch_size=100,  callbacks=[first_model_callback])"
      ],
      "metadata": {
        "colab": {
          "base_uri": "https://localhost:8080/"
        },
        "id": "v-Qm7Ef-vQbt",
        "outputId": "9c595c94-95b0-4b96-bf78-97e3a800046f"
      },
      "execution_count": 6,
      "outputs": [
        {
          "output_type": "stream",
          "name": "stdout",
          "text": [
            "Epoch 1/20\n",
            "450/450 [==============================] - 60s 115ms/step - loss: 0.0078 - val_loss: 0.0083\n",
            "Epoch 2/20\n",
            "450/450 [==============================] - 51s 114ms/step - loss: 0.0076 - val_loss: 0.0083\n",
            "Epoch 3/20\n",
            "450/450 [==============================] - 51s 114ms/step - loss: 0.0075 - val_loss: 0.0083\n",
            "Epoch 4/20\n",
            "450/450 [==============================] - 52s 116ms/step - loss: 0.0074 - val_loss: 0.0083\n",
            "Epoch 5/20\n",
            "450/450 [==============================] - 52s 115ms/step - loss: 0.0074 - val_loss: 0.0083\n",
            "Epoch 6/20\n",
            "450/450 [==============================] - 52s 115ms/step - loss: 0.0073 - val_loss: 0.0083\n"
          ]
        }
      ]
    },
    {
      "cell_type": "code",
      "source": [
        "eval_output = first_model.evaluate(masked_x_test, x_test, return_dict=True)"
      ],
      "metadata": {
        "colab": {
          "base_uri": "https://localhost:8080/"
        },
        "id": "31Z0XMQhzBcM",
        "outputId": "c72142e8-8075-4f9a-e6d7-a9937aab1c22"
      },
      "execution_count": 8,
      "outputs": [
        {
          "output_type": "stream",
          "name": "stdout",
          "text": [
            "313/313 [==============================] - 5s 15ms/step - loss: 0.0084\n"
          ]
        }
      ]
    },
    {
      "cell_type": "code",
      "source": [
        "display_history(first_history)"
      ],
      "metadata": {
        "colab": {
          "base_uri": "https://localhost:8080/",
          "height": 472
        },
        "id": "f5p0ZtzI1BkZ",
        "outputId": "9fc37fd6-b89d-474f-c54c-7b1bd19067cb"
      },
      "execution_count": 10,
      "outputs": [
        {
          "output_type": "display_data",
          "data": {
            "text/plain": [
              "<Figure size 640x480 with 1 Axes>"
            ],
            "image/png": "[encoded data removed]"
          },
          "metadata": {}
        }
      ]
    }
  ]
}