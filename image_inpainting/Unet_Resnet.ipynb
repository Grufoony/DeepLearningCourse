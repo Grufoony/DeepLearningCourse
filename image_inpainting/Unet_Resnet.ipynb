{
  "nbformat": 4,
  "nbformat_minor": 0,
  "metadata": {
    "colab": {
      "provenance": [],
      "gpuType": "T4",
      "authorship_tag": "ABX9TyPa05+4o2CWhRSvDS9kCjqC",
      "include_colab_link": true
    },
    "kernelspec": {
      "name": "python3",
      "display_name": "Python 3"
    },
    "language_info": {
      "name": "python"
    },
    "accelerator": "GPU",
    "gpuClass": "standard"
  },
  "cells": [
    {
      "cell_type": "markdown",
      "metadata": {
        "id": "view-in-github",
        "colab_type": "text"
      },
      "source": [
        "<a href=\"https://colab.research.google.com/github/francesco-source/DeepLearning/blob/main/image_inpainting/Unet_Resnet.ipynb\" target=\"_parent\"><img src=\"https://colab.research.google.com/assets/colab-badge.svg\" alt=\"Open In Colab\"/></a>"
      ]
    },
    {
      "cell_type": "markdown",
      "source": [
        "# Model 2\n",
        "\n",
        "For the second model I decided to create an U-Net based model, that is a convolutional neural network developed for biomedical image segmentation. The main idea is to supplement a usual contracting network by successive layers, where pooling operations are replaced.\n",
        "\n",
        "I defined 2 custom block of layers:\n",
        "1. Residual Convolution Block (RCB), which is compose of two 2d Convolution with residual connection.\n",
        "2. Residual Convolution with Bottleneck (RCBB), is like with RCB but with a bottleneck in the residual connection."
      ],
      "metadata": {
        "id": "10dirHC03vVE"
      }
    },
    {
      "cell_type": "code",
      "source": [
        "import tensorflow as tf\n",
        "from tensorflow import keras\n",
        "import numpy as np\n",
        "import matplotlib.pyplot as plt\n",
        "from tensorflow.keras import layers, models, metrics\n",
        "from tensorflow.keras.optimizers import Adam\n",
        "from keras import callbacks\n",
        "from tensorflow.keras.datasets import cifar10\n",
        "from tensorflow.keras.utils import plot_model"
      ],
      "metadata": {
        "id": "-8wjZsqhKdei"
      },
      "execution_count": 2,
      "outputs": []
    },
    {
      "cell_type": "code",
      "source": [
        "(x_train, y_train), (x_test, y_test) = cifar10.load_data()\n",
        "print(\"image range is {}, {}\".format(np.min(x_test,axis=(0,1,2,3)),np.max(x_test,axis=(0,1,2,3))))\n",
        "x_train = (x_train/255.).astype(np.float32)\n",
        "x_test = (x_test/255.).astype(np.float32)\n",
        "print(\"new image range is {}, {}\".format(np.min(x_test,axis=(0,1,2,3)),np.max(x_test,axis=(0,1,2,3))))"
      ],
      "metadata": {
        "colab": {
          "base_uri": "https://localhost:8080/"
        },
        "id": "PcWFlqQSKgWV",
        "outputId": "40a4a63e-5b93-4146-a23f-1498d17910cd"
      },
      "execution_count": 3,
      "outputs": [
        {
          "output_type": "stream",
          "name": "stdout",
          "text": [
            "image range is 0, 255\n",
            "new image range is 0.0, 1.0\n"
          ]
        }
      ]
    },
    {
      "cell_type": "code",
      "source": [
        "def mask(X,coords):\n",
        "  x0,y0,x1,y1 = coords\n",
        "  X[:,x0:x1,y0:y1] = 0\n",
        "  return X\n",
        "\n",
        "\n",
        "masked_x_train = mask(np.copy(x_train),(2,16,30,30))\n",
        "masked_x_test = mask(np.copy(x_test),(2,16,30,30))"
      ],
      "metadata": {
        "id": "a1xlsjgJKiwL"
      },
      "execution_count": 4,
      "outputs": []
    },
    {
      "cell_type": "code",
      "source": [
        "def display_history(history):\n",
        "    mse_training = history.history['loss']\n",
        "\n",
        "    mse_val = history.history['val_loss']\n",
        "\n",
        "    # Visualize the behavior of the loss\n",
        "    plt.plot(mse_training)\n",
        "    plt.plot(mse_val)\n",
        "    plt.grid()\n",
        "    plt.title('Loss during training/validation')\n",
        "    plt.xlabel('Epoch')\n",
        "    plt.legend(['Training', 'Validation'])\n",
        "    plt.show()"
      ],
      "metadata": {
        "id": "GAJT3l06V8ue"
      },
      "execution_count": 11,
      "outputs": []
    },
    {
      "cell_type": "code",
      "source": [
        "class ResidualConvolutionBlock(tf.keras.layers.Layer):\n",
        "    def __init__(self, channels):\n",
        "      super(ResidualConvolutionBlock, self).__init__()\n",
        "      self.conv1 = tf.keras.layers.Conv2D(channels, (3, 3), padding='same', activation='relu')\n",
        "      self.conv2 = tf.keras.layers.Conv2D(channels, (3, 3), padding='same', activation='relu')\n",
        "\n",
        "    def call(self, inputs):\n",
        "      conv1 = self.conv1(inputs)\n",
        "      conv2 = self.conv2(conv1)\n",
        "      output = conv2 + inputs\n",
        "      return output\n",
        "\n",
        "class ResidualConvolutionBlockBottleneck(tf.keras.layers.Layer):\n",
        "    def __init__(self, channels):\n",
        "      super(ResidualConvolutionBlockBottleneck, self).__init__()\n",
        "      self.conv1 = tf.keras.layers.Conv2D(channels, (3, 3), padding='same')\n",
        "      self.conv2 = tf.keras.layers.Conv2D(channels, (3, 3), padding='same')\n",
        "      self.bottleneck = tf.keras.layers.Conv2D(channels, (1, 1), padding='same')\n",
        "      self.dropout = tf.keras.layers.Dropout(0.5)\n",
        "\n",
        "    def call(self, inputs):\n",
        "      conv1 = self.conv1(inputs)\n",
        "      conv1 = tf.keras.layers.LeakyReLU()(conv1)\n",
        "\n",
        "      conv2 = self.conv2(conv1)\n",
        "      conv2 = tf.keras.layers.LeakyReLU()(conv2)\n",
        "\n",
        "      output = conv2 + self.bottleneck(inputs)\n",
        "      output = self.dropout(output)\n",
        "\n",
        "      return output\n",
        "\n",
        "class SecondModel(tf.keras.Model):\n",
        "  def __init__(self):\n",
        "    super(SecondModel, self).__init__()\n",
        "    self.conv1 = tf.keras.layers.Conv2D(32, (3, 3), padding='same')\n",
        "    self.rcbs1 = [ResidualConvolutionBlock(32), ResidualConvolutionBlock(32), ResidualConvolutionBlock(32), ResidualConvolutionBlock(32)]\n",
        "\n",
        "    self.downsampling1 = tf.keras.layers.Conv2D(64, (3, 3), strides=(2, 2), padding='same')\n",
        "    self.rcbs2 = [ResidualConvolutionBlock(64), ResidualConvolutionBlock(64), ResidualConvolutionBlock(64), ResidualConvolutionBlock(64)]\n",
        "\n",
        "    self.downsampling2 = tf.keras.layers.Conv2D(128, (3, 3), strides=(2, 2), padding='same')\n",
        "    self.rcbs3 = [ResidualConvolutionBlock(128), ResidualConvolutionBlock(128), ResidualConvolutionBlock(128), ResidualConvolutionBlock(128)]\n",
        "\n",
        "    self.downsampling3 = tf.keras.layers.Conv2D(256, (3, 3), strides=(2, 2), padding='same')\n",
        "    self.rcbs4 = [ResidualConvolutionBlock(256), ResidualConvolutionBlock(256), ResidualConvolutionBlock(256), ResidualConvolutionBlock(256)]\n",
        "\n",
        "    self.upsampling1 = tf.keras.layers.Conv2DTranspose(128, (3, 3), strides=(2, 2), padding='same')\n",
        "    self.upconv1 = tf.keras.layers.Conv2D(128, (3, 3), padding='same')\n",
        "    self.leakyrelu1 = tf.keras.layers.LeakyReLU()\n",
        "    self.rcbb1 = ResidualConvolutionBlockBottleneck(128)\n",
        "\n",
        "    self.upsampling2 = tf.keras.layers.Conv2DTranspose(128, (3, 3), strides=(2, 2), padding='same')\n",
        "    self.upconv2 = tf.keras.layers.Conv2D(64, (3, 3), padding='same')\n",
        "    self.leakyrelu2 = tf.keras.layers.LeakyReLU()\n",
        "    self.rcbb2 = ResidualConvolutionBlockBottleneck(64)\n",
        "\n",
        "    self.upsampling3 = tf.keras.layers.Conv2DTranspose(128, (3, 3), strides=(2, 2), padding='same')\n",
        "    self.upconv3 = tf.keras.layers.Conv2D(32, (3, 3), padding='same')\n",
        "    self.leakyrelu3 = tf.keras.layers.LeakyReLU()\n",
        "    self.rcbb3 = ResidualConvolutionBlockBottleneck(32)\n",
        "\n",
        "    self.last_conv = tf.keras.layers.Conv2D(3, (3, 3), padding='same')\n",
        "  \n",
        "  def call(self, inputs):\n",
        "    output1 = self.conv1(inputs)\n",
        "\n",
        "    for block in self.rcbs1:\n",
        "      output1 = block(output1)\n",
        "\n",
        "    output2 = self.downsampling1(output1)\n",
        "\n",
        "    for block in self.rcbs2:\n",
        "      output2 = block(output2)\n",
        "\n",
        "    output3 = self.downsampling2(output2)\n",
        "\n",
        "    for block in self.rcbs3:\n",
        "      output3 = block(output3)\n",
        "\n",
        "    output4 = self.downsampling3(output3)\n",
        "\n",
        "    for block in self.rcbs4:\n",
        "      output4 = block(output4)\n",
        "\n",
        "    output5 = self.upsampling1(output4)\n",
        "    output5 = self.upconv1(output5)\n",
        "    output5 = self.leakyrelu1(output5)\n",
        "\n",
        "    output5 = tf.keras.layers.concatenate([output3, output5])\n",
        "    output5 = self.rcbb1(output5)\n",
        "\n",
        "    output5 = self.upsampling2(output5)\n",
        "    output5 = self.upconv2(output5)\n",
        "    output5 = self.leakyrelu2(output5)\n",
        "\n",
        "    output5 = tf.keras.layers.concatenate([output2, output5])\n",
        "    output5 = self.rcbb2(output5)\n",
        "    \n",
        "    output5 = self.upsampling3(output5)\n",
        "    output5 = self.upconv3(output5)\n",
        "    output5 = self.leakyrelu3(output5)\n",
        "\n",
        "    output5 = tf.keras.layers.concatenate([output1, output5])\n",
        "    output5 = self.rcbb3(output5)\n",
        "\n",
        "    output5 = self.last_conv(output5)\n",
        "    output5 = tf.keras.layers.add([inputs, output5])\n",
        "  \n",
        "    return output5\n",
        "\n",
        "second_model = SecondModel()\n",
        "second_model.build(input_shape=(None, 32, 32, 3))\n",
        "second_model.summary()\n"
      ],
      "metadata": {
        "id": "_Y3rO0Ab47JJ"
      },
      "execution_count": null,
      "outputs": []
    },
    {
      "cell_type": "code",
      "source": [
        "import tensorflow as tf\n",
        "\n",
        "lr_scheduler = tf.keras.optimizers.schedules.ExponentialDecay(\n",
        "    initial_learning_rate=0.001, decay_steps=10000, decay_rate=0.1, staircase=True\n",
        ")\n",
        "\n",
        "second_model_callback = tf.keras.callbacks.EarlyStopping(patience=15)\n",
        "\n",
        "\n",
        "second_model.compile(optimizer=tf.keras.optimizers.Adam(learning_rate=lr_scheduler), loss=\"mse\")\n",
        "\n",
        "second_history = second_model.fit(\n",
        "    masked_x_train,\n",
        "    x_train,\n",
        "    batch_size=300,\n",
        "    shuffle=True,\n",
        "    validation_split=0.1,\n",
        "    epochs=20,\n",
        "    callbacks=[second_model_callback]\n",
        ")\n"
      ],
      "metadata": {
        "colab": {
          "base_uri": "https://localhost:8080/"
        },
        "id": "_M3qVjitLxho",
        "outputId": "e8b81e47-6ea6-4b5a-b8bf-73959de9dff0"
      },
      "execution_count": 8,
      "outputs": [
        {
          "output_type": "stream",
          "name": "stdout",
          "text": [
            "Epoch 1/20\n",
            "150/150 [==============================] - 69s 343ms/step - loss: 0.0512 - val_loss: 0.0103\n",
            "Epoch 2/20\n",
            "150/150 [==============================] - 50s 335ms/step - loss: 0.0119 - val_loss: 0.0096\n",
            "Epoch 3/20\n",
            "150/150 [==============================] - 51s 337ms/step - loss: 0.0112 - val_loss: 0.0095\n",
            "Epoch 4/20\n",
            "150/150 [==============================] - 52s 344ms/step - loss: 0.0109 - val_loss: 0.0092\n",
            "Epoch 5/20\n",
            "150/150 [==============================] - 51s 337ms/step - loss: 0.0107 - val_loss: 0.0093\n",
            "Epoch 6/20\n",
            "150/150 [==============================] - 51s 337ms/step - loss: 0.0105 - val_loss: 0.0090\n",
            "Epoch 7/20\n",
            "150/150 [==============================] - 51s 337ms/step - loss: 0.0103 - val_loss: 0.0089\n",
            "Epoch 8/20\n",
            "150/150 [==============================] - 51s 337ms/step - loss: 0.0101 - val_loss: 0.0089\n",
            "Epoch 9/20\n",
            "150/150 [==============================] - 51s 337ms/step - loss: 0.0098 - val_loss: 0.0087\n",
            "Epoch 10/20\n",
            "150/150 [==============================] - 52s 345ms/step - loss: 0.0096 - val_loss: 0.0086\n",
            "Epoch 11/20\n",
            "150/150 [==============================] - 51s 337ms/step - loss: 0.0094 - val_loss: 0.0090\n",
            "Epoch 12/20\n",
            "150/150 [==============================] - 51s 337ms/step - loss: 0.0092 - val_loss: 0.0086\n",
            "Epoch 13/20\n",
            "150/150 [==============================] - 50s 337ms/step - loss: 0.0089 - val_loss: 0.0086\n",
            "Epoch 14/20\n",
            "150/150 [==============================] - 51s 337ms/step - loss: 0.0086 - val_loss: 0.0087\n",
            "Epoch 15/20\n",
            "150/150 [==============================] - 52s 345ms/step - loss: 0.0083 - val_loss: 0.0090\n",
            "Epoch 16/20\n",
            "150/150 [==============================] - 51s 338ms/step - loss: 0.0080 - val_loss: 0.0088\n",
            "Epoch 17/20\n",
            "150/150 [==============================] - 52s 345ms/step - loss: 0.0077 - val_loss: 0.0089\n",
            "Epoch 18/20\n",
            "150/150 [==============================] - 52s 345ms/step - loss: 0.0074 - val_loss: 0.0090\n",
            "Epoch 19/20\n",
            "150/150 [==============================] - 50s 337ms/step - loss: 0.0072 - val_loss: 0.0091\n",
            "Epoch 20/20\n",
            "150/150 [==============================] - 50s 336ms/step - loss: 0.0069 - val_loss: 0.0089\n"
          ]
        }
      ]
    },
    {
      "cell_type": "code",
      "source": [
        "eval_output3 = second_model.evaluate(masked_x_test, x_test, return_dict=True)"
      ],
      "metadata": {
        "colab": {
          "base_uri": "https://localhost:8080/"
        },
        "id": "NrQ6qTcpNzYl",
        "outputId": "57270b72-4ce8-4743-dd1c-12876923c135"
      },
      "execution_count": 9,
      "outputs": [
        {
          "output_type": "stream",
          "name": "stdout",
          "text": [
            "313/313 [==============================] - 5s 15ms/step - loss: 0.0091\n"
          ]
        }
      ]
    },
    {
      "cell_type": "code",
      "source": [
        "display_history(second_history)"
      ],
      "metadata": {
        "colab": {
          "base_uri": "https://localhost:8080/",
          "height": 472
        },
        "id": "HApWYNtnV67z",
        "outputId": "50d9515e-fa0a-48af-8ffc-7a6ab6a47e8d"
      },
      "execution_count": 12,
      "outputs": [
        {
          "output_type": "display_data",
          "data": {
            "text/plain": [
              "<Figure size 640x480 with 1 Axes>"
            ],
            "image/png": "[encoded data removed]"
          },
          "metadata": {}
        }
      ]
    }
  ]
}