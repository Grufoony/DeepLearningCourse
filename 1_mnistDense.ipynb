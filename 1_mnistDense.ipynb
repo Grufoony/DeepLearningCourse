{
  "nbformat": 4,
  "nbformat_minor": 0,
  "metadata": {
    "colab": {
      "provenance": [],
      "include_colab_link": true
    },
    "kernelspec": {
      "name": "python3",
      "display_name": "Python 3"
    },
    "language_info": {
      "name": "python"
    },
    "accelerator": "GPU"
  },
  "cells": [
    {
      "cell_type": "markdown",
      "metadata": {
        "id": "view-in-github",
        "colab_type": "text"
      },
      "source": [
        "<a href=\"https://colab.research.google.com/github/francesco-source/DeepLearning/blob/main/1_mnistDense.ipynb\" target=\"_parent\"><img src=\"https://colab.research.google.com/assets/colab-badge.svg\" alt=\"Open In Colab\"/></a>"
      ]
    },
    {
      "cell_type": "markdown",
      "metadata": {
        "id": "B8wSwJnsjx5P"
      },
      "source": [
        "# Mnist classification with NNs\n",
        "A first example of a simple Neural Network, applied to a well known dataset."
      ]
    },
    {
      "cell_type": "code",
      "metadata": {
        "id": "3wMZ2Ge6jw1E"
      },
      "source": [
        "from tensorflow.keras.layers import Input, Dense\n",
        "from tensorflow.keras.datasets import mnist\n",
        "from tensorflow.keras.models import Model\n",
        "from tensorflow.keras import utils\n",
        "import tensorflow as tf\n",
        "import numpy as np"
      ],
      "execution_count": 28,
      "outputs": []
    },
    {
      "cell_type": "markdown",
      "metadata": {
        "id": "FDiNppLVkvqd"
      },
      "source": [
        "Let us load the mnist dataset"
      ]
    },
    {
      "cell_type": "code",
      "metadata": {
        "id": "wL8GyC0Nk14o",
        "outputId": "f125a6ff-b270-46d7-c132-8480d8cb3026",
        "colab": {
          "base_uri": "https://localhost:8080/"
        }
      },
      "source": [
        "(x_train, y_train), (x_test, y_test) = mnist.load_data()"
      ],
      "execution_count": 2,
      "outputs": [
        {
          "output_type": "stream",
          "name": "stdout",
          "text": [
            "Downloading data from https://storage.googleapis.com/tensorflow/tf-keras-datasets/mnist.npz\n",
            "11490434/11490434 [==============================] - 0s 0us/step\n"
          ]
        }
      ]
    },
    {
      "cell_type": "code",
      "metadata": {
        "colab": {
          "base_uri": "https://localhost:8080/"
        },
        "id": "ijhDuLwwlQrI",
        "outputId": "390a6114-e275-471f-fb60-cf97b0026d84"
      },
      "source": [
        "print(x_train.shape)\n",
        "print(\"pixel range is [{},{}]\".format(np.min(x_train),np.max(x_train)))"
      ],
      "execution_count": 3,
      "outputs": [
        {
          "output_type": "stream",
          "name": "stdout",
          "text": [
            "(60000, 28, 28)\n",
            "pixel range is [0,255]\n"
          ]
        }
      ]
    },
    {
      "cell_type": "markdown",
      "metadata": {
        "id": "D01L64YcnWO5"
      },
      "source": [
        "We normalize the input in the range [0,1]"
      ]
    },
    {
      "cell_type": "code",
      "metadata": {
        "id": "a8uA2Kp7mG9s"
      },
      "source": [
        "x_train = x_train.astype('float32') / 255.\n",
        "x_test = x_test.astype('float32') / 255.\n",
        "\n",
        "x_train = np.reshape(x_train,(60000,28*28))\n",
        "x_test = np.reshape(x_test,(10000,28*28))"
      ],
      "execution_count": 4,
      "outputs": []
    },
    {
      "cell_type": "markdown",
      "source": [
        "The output of the network will be a proability distribution over the different categories. Similarly, we generate a ground truth distribution, and the training objective will consist in minimizing their distance (categorical crossentropy). The ground truth distribution is the so called \"categorical\" distribution: if x has label l, the corresponding categorical distribution has probaility 1 for the category l, and 0 for all the others."
      ],
      "metadata": {
        "id": "Yjrzmhgh3TZv"
      }
    },
    {
      "cell_type": "code",
      "metadata": {
        "colab": {
          "base_uri": "https://localhost:8080/"
        },
        "id": "bhzWUm0UnODb",
        "outputId": "e5087961-f13b-4b3f-e7d2-cf1c03b56cf6"
      },
      "source": [
        "#we use the categoricl rapresentation of the class\n",
        "print(y_train[0])\n",
        "y_train_cat = utils.to_categorical(y_train)\n",
        "print(y_train_cat[0])\n",
        "y_test_cat = utils.to_categorical(y_test)\n",
        "# This is what we expect that the network will produce. "
      ],
      "execution_count": 5,
      "outputs": [
        {
          "output_type": "stream",
          "name": "stdout",
          "text": [
            "5\n",
            "[0. 0. 0. 0. 0. 1. 0. 0. 0. 0.]\n"
          ]
        }
      ]
    },
    {
      "cell_type": "markdown",
      "metadata": {
        "id": "sfeZF3bUrFZf"
      },
      "source": [
        "Our first Netwok just implements logistic regression"
      ]
    },
    {
      "cell_type": "code",
      "metadata": {
        "id": "hBJtMj2pqJiR"
      },
      "source": [
        "xin = Input(shape=(784)) # First layer, only one layer with this shape.\n",
        "# 10 is the number of outputs of the dense layer, activation is the softmax(generalization of the logistic function).\n",
        "res = Dense(10,activation='softmax') (xin) # We apply the dense layer to the input layer. We create the layer.\n",
        "mynet = Model(inputs=xin,outputs=res) #inputs = could be a list of inputs and also outputs can be a list"
      ],
      "execution_count": 7,
      "outputs": []
    },
    {
      "cell_type": "code",
      "metadata": {
        "colab": {
          "base_uri": "https://localhost:8080/"
        },
        "id": "hXD5JT2ZrTJc",
        "outputId": "83131a8d-e946-4b8d-ad99-171371878edd"
      },
      "source": [
        "mynet.summary()"
      ],
      "execution_count": 8,
      "outputs": [
        {
          "output_type": "stream",
          "name": "stdout",
          "text": [
            "Model: \"model_1\"\n",
            "_________________________________________________________________\n",
            " Layer (type)                Output Shape              Param #   \n",
            "=================================================================\n",
            " input_2 (InputLayer)        [(None, 784)]             0         \n",
            "                                                                 \n",
            " dense_1 (Dense)             (None, 10)                7850      \n",
            "                                                                 \n",
            "=================================================================\n",
            "Total params: 7,850\n",
            "Trainable params: 7,850\n",
            "Non-trainable params: 0\n",
            "_________________________________________________________________\n"
          ]
        }
      ]
    },
    {
      "cell_type": "markdown",
      "source": [
        "The None means that the beach dimension is unspecified. The network is able to work with any betch dimension. We have a dense network so we know that the parameters are all the possible connections. 784*10 + 1*10 biases links. "
      ],
      "metadata": {
        "id": "XIt23n2Zm9yu"
      }
    },
    {
      "cell_type": "markdown",
      "metadata": {
        "id": "bcjcOz8yrk5X"
      },
      "source": [
        "Now we need to compile the network.\n",
        "In order to do it, we need to pass two mandatory arguments:\n",
        "\n",
        "\n",
        "*   the **optimizer**, in charge of governing the details of the backpropagation algorithm\n",
        "*   the **loss function**\n",
        "\n",
        "Several predefined optimizers exist, and you should just choose your favourite one. A common choice is Adam, implementing an adaptive lerning rate, with momentum\n",
        "\n",
        "Optionally, we can specify additional metrics, mostly meant for monitoring the training process.\n",
        "\n",
        "Th optimizer is usually a variant of SGD."
      ]
    },
    {
      "cell_type": "code",
      "metadata": {
        "id": "7XK20mAFrrkQ"
      },
      "source": [
        "mynet.compile(optimizer='adam',loss='categorical_crossentropy',metrics=['accuracy'])"
      ],
      "execution_count": 9,
      "outputs": []
    },
    {
      "cell_type": "markdown",
      "metadata": {
        "id": "E58bT-Imvsw2"
      },
      "source": [
        "Finally, we fit the model over the trianing set. \n",
        "\n",
        "Fitting, just requires two arguments: training data e ground truth, that is x and y. Additionally we can specify epochs, batch_size, and many additional arguments.\n",
        "\n",
        "In particular, passing validation data allow the training procedure to measure loss and metrics on the validation set at the end of each epoch."
      ]
    },
    {
      "cell_type": "code",
      "metadata": {
        "id": "l2woDXbbr6ak",
        "colab": {
          "base_uri": "https://localhost:8080/"
        },
        "outputId": "4846e0f8-965e-4c0e-9603-411a21d8046f"
      },
      "source": [
        "# batch size, amount of data that we want to process in parallel. Largest batch size possible is usually a good idea. \n",
        "# Here we are using test set as validation. Is cheading but only for teaching purpouses we do so. \n",
        "mynet.fit(x_train,y_train_cat, shuffle=True, epochs=10, batch_size=32,validation_data=(x_test,y_test_cat))"
      ],
      "execution_count": 10,
      "outputs": [
        {
          "output_type": "stream",
          "name": "stdout",
          "text": [
            "Epoch 1/10\n",
            "1875/1875 [==============================] - 11s 3ms/step - loss: 0.4745 - accuracy: 0.8755 - val_loss: 0.3106 - val_accuracy: 0.9165\n",
            "Epoch 2/10\n",
            "1875/1875 [==============================] - 6s 3ms/step - loss: 0.3043 - accuracy: 0.9148 - val_loss: 0.2849 - val_accuracy: 0.9198\n",
            "Epoch 3/10\n",
            "1875/1875 [==============================] - 5s 3ms/step - loss: 0.2836 - accuracy: 0.9203 - val_loss: 0.2795 - val_accuracy: 0.9214\n",
            "Epoch 4/10\n",
            "1875/1875 [==============================] - 7s 4ms/step - loss: 0.2733 - accuracy: 0.9232 - val_loss: 0.2767 - val_accuracy: 0.9223\n",
            "Epoch 5/10\n",
            "1875/1875 [==============================] - 5s 3ms/step - loss: 0.2667 - accuracy: 0.9255 - val_loss: 0.2655 - val_accuracy: 0.9270\n",
            "Epoch 6/10\n",
            "1875/1875 [==============================] - 6s 3ms/step - loss: 0.2621 - accuracy: 0.9269 - val_loss: 0.2642 - val_accuracy: 0.9271\n",
            "Epoch 7/10\n",
            "1875/1875 [==============================] - 5s 3ms/step - loss: 0.2582 - accuracy: 0.9287 - val_loss: 0.2674 - val_accuracy: 0.9260\n",
            "Epoch 8/10\n",
            "1875/1875 [==============================] - 6s 3ms/step - loss: 0.2553 - accuracy: 0.9296 - val_loss: 0.2685 - val_accuracy: 0.9245\n",
            "Epoch 9/10\n",
            "1875/1875 [==============================] - 6s 3ms/step - loss: 0.2529 - accuracy: 0.9298 - val_loss: 0.2642 - val_accuracy: 0.9269\n",
            "Epoch 10/10\n",
            "1875/1875 [==============================] - 6s 3ms/step - loss: 0.2514 - accuracy: 0.9307 - val_loss: 0.2627 - val_accuracy: 0.9276\n"
          ]
        },
        {
          "output_type": "execute_result",
          "data": {
            "text/plain": [
              "<keras.callbacks.History at 0x7f6360657bb0>"
            ]
          },
          "metadata": {},
          "execution_count": 10
        }
      ]
    },
    {
      "cell_type": "markdown",
      "source": [
        "Now we try to add more layers and do a better logistic regression. We can so add intermidiet layers. Now we use tree layers. And i can choose the size. Softmax is usally used only for the final layes. Relu is used for intermediet layers. You can specify an activation as an additional layer if you want."
      ],
      "metadata": {
        "id": "TzfJNR3pqOQA"
      }
    },
    {
      "cell_type": "code",
      "metadata": {
        "id": "k0mBuorMulG5"
      },
      "source": [
        "xin = Input(shape=(784))\n",
        "x = Dense(128,activation='relu')(xin)\n",
        "res = Dense(10,activation='softmax')(x)\n",
        "# X2 = Dense(100)(x)\n",
        "# X3 = Activation(activation = \"relu\")(X2)\n",
        "\n",
        "mynet2 = Model(inputs=xin,outputs=res)"
      ],
      "execution_count": 11,
      "outputs": []
    },
    {
      "cell_type": "code",
      "metadata": {
        "id": "SpMyvw7buzhT",
        "colab": {
          "base_uri": "https://localhost:8080/"
        },
        "outputId": "4edb54a9-5ea6-4b90-8547-ec08274be925"
      },
      "source": [
        "mynet2.summary()"
      ],
      "execution_count": 12,
      "outputs": [
        {
          "output_type": "stream",
          "name": "stdout",
          "text": [
            "Model: \"model_2\"\n",
            "_________________________________________________________________\n",
            " Layer (type)                Output Shape              Param #   \n",
            "=================================================================\n",
            " input_3 (InputLayer)        [(None, 784)]             0         \n",
            "                                                                 \n",
            " dense_2 (Dense)             (None, 128)               100480    \n",
            "                                                                 \n",
            " dense_3 (Dense)             (None, 10)                1290      \n",
            "                                                                 \n",
            "=================================================================\n",
            "Total params: 101,770\n",
            "Trainable params: 101,770\n",
            "Non-trainable params: 0\n",
            "_________________________________________________________________\n"
          ]
        }
      ]
    },
    {
      "cell_type": "code",
      "metadata": {
        "id": "rYg0odW2u6cn"
      },
      "source": [
        "mynet2.compile(optimizer='adam',loss='categorical_crossentropy',metrics=['accuracy'])"
      ],
      "execution_count": 13,
      "outputs": []
    },
    {
      "cell_type": "code",
      "metadata": {
        "id": "KDnzgIZVvGOm",
        "colab": {
          "base_uri": "https://localhost:8080/"
        },
        "outputId": "f257f23b-8811-4089-f612-d99592406bef"
      },
      "source": [
        "mynet2.fit(x_train,y_train_cat, shuffle=True, epochs=10, batch_size=32,validation_data=(x_test,y_test_cat))"
      ],
      "execution_count": null,
      "outputs": [
        {
          "output_type": "stream",
          "name": "stdout",
          "text": [
            "Epoch 1/10\n",
            "1875/1875 [==============================] - 6s 3ms/step - loss: 0.2576 - accuracy: 0.9265 - val_loss: 0.1317 - val_accuracy: 0.9614\n",
            "Epoch 2/10\n",
            "1875/1875 [==============================] - 6s 3ms/step - loss: 0.1148 - accuracy: 0.9667 - val_loss: 0.1025 - val_accuracy: 0.9694\n",
            "Epoch 3/10\n",
            "1875/1875 [==============================] - 6s 3ms/step - loss: 0.0780 - accuracy: 0.9768 - val_loss: 0.0895 - val_accuracy: 0.9719\n",
            "Epoch 4/10\n",
            "1875/1875 [==============================] - 6s 3ms/step - loss: 0.0588 - accuracy: 0.9823 - val_loss: 0.0833 - val_accuracy: 0.9742\n",
            "Epoch 5/10\n",
            "1875/1875 [==============================] - 5s 3ms/step - loss: 0.0442 - accuracy: 0.9868 - val_loss: 0.0833 - val_accuracy: 0.9751\n",
            "Epoch 6/10\n",
            "1875/1875 [==============================] - 6s 3ms/step - loss: 0.0363 - accuracy: 0.9890 - val_loss: 0.0696 - val_accuracy: 0.9793\n",
            "Epoch 7/10\n",
            "1875/1875 [==============================] - 5s 3ms/step - loss: 0.0285 - accuracy: 0.9913 - val_loss: 0.0727 - val_accuracy: 0.9779\n",
            "Epoch 8/10\n",
            "1875/1875 [==============================] - 6s 3ms/step - loss: 0.0234 - accuracy: 0.9929 - val_loss: 0.0842 - val_accuracy: 0.9751\n",
            "Epoch 9/10\n",
            "1875/1875 [==============================] - 5s 3ms/step - loss: 0.0189 - accuracy: 0.9944 - val_loss: 0.0830 - val_accuracy: 0.9774\n",
            "Epoch 10/10\n",
            "1875/1875 [==============================] - 7s 4ms/step - loss: 0.0163 - accuracy: 0.9947 - val_loss: 0.0814 - val_accuracy: 0.9774\n"
          ]
        },
        {
          "output_type": "execute_result",
          "data": {
            "text/plain": [
              "<keras.callbacks.History at 0x7f85d41e8490>"
            ]
          },
          "metadata": {},
          "execution_count": 42
        }
      ]
    },
    {
      "cell_type": "markdown",
      "metadata": {
        "id": "UcUKxCzKwzG9"
      },
      "source": [
        "An amazing improvement. WOW!"
      ]
    },
    {
      "cell_type": "code",
      "source": [
        "mynet.save_weights(\"my_file\")\n",
        "mynet2.save_weights(\"my_file\")"
      ],
      "metadata": {
        "id": "GcwyJF9xsOr8"
      },
      "execution_count": 14,
      "outputs": []
    },
    {
      "cell_type": "markdown",
      "metadata": {
        "id": "JJr0EnAkw6nf"
      },
      "source": [
        "# Exercises\n",
        "\n",
        "1.   Add additional Dense layers and check the performance of the network\n",
        "2.   Replace 'relu' with different activation functions\n",
        "3. Adapt the network to work with the so called sparse_categorical_crossentropy\n",
        "4. the fit function return a history of training, with temporal sequences for all different metrics. Make a plot.\n",
        "\n",
        "\\\\"
      ]
    },
    {
      "cell_type": "code",
      "source": [
        "xin = Input(shape=(784))\n",
        "res = Dense(10,activation='relu') (xin) \n",
        "\n",
        "res2 = Dense(10,activation = \"softmax\")(res)\n",
        "\n",
        "mynet_3 = Model(inputs=xin,outputs=res2)"
      ],
      "metadata": {
        "id": "EzbDBLPNHOl5"
      },
      "execution_count": 20,
      "outputs": []
    },
    {
      "cell_type": "code",
      "source": [
        "mynet_3.compile(optimizer='adam',loss='categorical_crossentropy',metrics=['accuracy'])"
      ],
      "metadata": {
        "id": "THj1JGQ5HtLI"
      },
      "execution_count": 21,
      "outputs": []
    },
    {
      "cell_type": "code",
      "source": [
        "mynet_3.fit(x_train,y_train_cat, shuffle=True, epochs=10, batch_size=32,validation_data=(x_test,y_test_cat))"
      ],
      "metadata": {
        "id": "tgKuBnUDH41H",
        "outputId": "fe38898a-504b-436b-9a39-cffe970112c3",
        "colab": {
          "base_uri": "https://localhost:8080/"
        }
      },
      "execution_count": 22,
      "outputs": [
        {
          "output_type": "stream",
          "name": "stdout",
          "text": [
            "Epoch 1/10\n",
            "1875/1875 [==============================] - 8s 4ms/step - loss: 0.5067 - accuracy: 0.8537 - val_loss: 0.3061 - val_accuracy: 0.9133\n",
            "Epoch 2/10\n",
            "1875/1875 [==============================] - 6s 3ms/step - loss: 0.2859 - accuracy: 0.9178 - val_loss: 0.2677 - val_accuracy: 0.9208\n",
            "Epoch 3/10\n",
            "1875/1875 [==============================] - 7s 4ms/step - loss: 0.2598 - accuracy: 0.9254 - val_loss: 0.2543 - val_accuracy: 0.9272\n",
            "Epoch 4/10\n",
            "1875/1875 [==============================] - 7s 4ms/step - loss: 0.2472 - accuracy: 0.9297 - val_loss: 0.2485 - val_accuracy: 0.9284\n",
            "Epoch 5/10\n",
            "1875/1875 [==============================] - 6s 3ms/step - loss: 0.2388 - accuracy: 0.9309 - val_loss: 0.2513 - val_accuracy: 0.9275\n",
            "Epoch 6/10\n",
            "1875/1875 [==============================] - 7s 4ms/step - loss: 0.2320 - accuracy: 0.9342 - val_loss: 0.2388 - val_accuracy: 0.9343\n",
            "Epoch 7/10\n",
            "1875/1875 [==============================] - 6s 3ms/step - loss: 0.2271 - accuracy: 0.9358 - val_loss: 0.2375 - val_accuracy: 0.9340\n",
            "Epoch 8/10\n",
            "1875/1875 [==============================] - 7s 4ms/step - loss: 0.2222 - accuracy: 0.9371 - val_loss: 0.2399 - val_accuracy: 0.9302\n",
            "Epoch 9/10\n",
            "1875/1875 [==============================] - 6s 3ms/step - loss: 0.2183 - accuracy: 0.9382 - val_loss: 0.2478 - val_accuracy: 0.9271\n",
            "Epoch 10/10\n",
            "1875/1875 [==============================] - 8s 4ms/step - loss: 0.2144 - accuracy: 0.9388 - val_loss: 0.2341 - val_accuracy: 0.9337\n"
          ]
        },
        {
          "output_type": "execute_result",
          "data": {
            "text/plain": [
              "<keras.callbacks.History at 0x7f62e1d3c1c0>"
            ]
          },
          "metadata": {},
          "execution_count": 22
        }
      ]
    },
    {
      "cell_type": "markdown",
      "source": [
        "### 2. Replacing relu with different activation functions"
      ],
      "metadata": {
        "id": "aBuKjN8tJHli"
      }
    },
    {
      "cell_type": "code",
      "source": [
        "xin = Input(shape=(784))\n",
        "res = Dense(10,activation='softplus') (xin) \n",
        "res2 = Dense(10,activation = \"softmax\")(res)\n",
        "mynet_3 = Model(inputs=xin,outputs=res2)\n",
        "\n",
        "mynet_3.compile(optimizer='adam',loss='categorical_crossentropy',metrics=['accuracy'])\n",
        "mynet_3.fit(x_train,y_train_cat, shuffle=True, epochs=10, batch_size=32,validation_data=(x_test,y_test_cat))"
      ],
      "metadata": {
        "id": "pBy5fbrXJF4S",
        "outputId": "0c08db25-3ab7-4b4e-ef20-554c2df635b2",
        "colab": {
          "base_uri": "https://localhost:8080/"
        }
      },
      "execution_count": 24,
      "outputs": [
        {
          "output_type": "stream",
          "name": "stdout",
          "text": [
            "Epoch 1/10\n",
            "1875/1875 [==============================] - 7s 3ms/step - loss: 0.5447 - accuracy: 0.8446 - val_loss: 0.3114 - val_accuracy: 0.9117\n",
            "Epoch 2/10\n",
            "1875/1875 [==============================] - 7s 4ms/step - loss: 0.3035 - accuracy: 0.9153 - val_loss: 0.2846 - val_accuracy: 0.9220\n",
            "Epoch 3/10\n",
            "1875/1875 [==============================] - 6s 3ms/step - loss: 0.2804 - accuracy: 0.9217 - val_loss: 0.2715 - val_accuracy: 0.9257\n",
            "Epoch 4/10\n",
            "1875/1875 [==============================] - 7s 4ms/step - loss: 0.2669 - accuracy: 0.9256 - val_loss: 0.2690 - val_accuracy: 0.9250\n",
            "Epoch 5/10\n",
            "1875/1875 [==============================] - 6s 3ms/step - loss: 0.2561 - accuracy: 0.9293 - val_loss: 0.2625 - val_accuracy: 0.9249\n",
            "Epoch 6/10\n",
            "1875/1875 [==============================] - 7s 4ms/step - loss: 0.2483 - accuracy: 0.9299 - val_loss: 0.2607 - val_accuracy: 0.9278\n",
            "Epoch 7/10\n",
            "1875/1875 [==============================] - 6s 3ms/step - loss: 0.2401 - accuracy: 0.9320 - val_loss: 0.2545 - val_accuracy: 0.9258\n",
            "Epoch 8/10\n",
            "1875/1875 [==============================] - 7s 4ms/step - loss: 0.2333 - accuracy: 0.9348 - val_loss: 0.2473 - val_accuracy: 0.9296\n",
            "Epoch 9/10\n",
            "1875/1875 [==============================] - 6s 3ms/step - loss: 0.2267 - accuracy: 0.9362 - val_loss: 0.2543 - val_accuracy: 0.9275\n",
            "Epoch 10/10\n",
            "1875/1875 [==============================] - 8s 4ms/step - loss: 0.2216 - accuracy: 0.9382 - val_loss: 0.2517 - val_accuracy: 0.9285\n"
          ]
        },
        {
          "output_type": "execute_result",
          "data": {
            "text/plain": [
              "<keras.callbacks.History at 0x7f62e0078790>"
            ]
          },
          "metadata": {},
          "execution_count": 24
        }
      ]
    },
    {
      "cell_type": "code",
      "source": [
        "xin = Input(shape=(784))\n",
        "res = Dense(10,activation='sigmoid') (xin) \n",
        "res2 = Dense(10,activation = \"softmax\")(res)\n",
        "mynet_3 = Model(inputs=xin,outputs=res2)\n",
        "\n",
        "mynet_3.compile(optimizer='adam',loss='categorical_crossentropy',metrics=['accuracy'])\n",
        "mynet_3.fit(x_train,y_train_cat, shuffle=True, epochs=10, batch_size=32,validation_data=(x_test,y_test_cat))"
      ],
      "metadata": {
        "id": "afXb3EwYJh8G",
        "outputId": "c35aa6f6-42c8-4592-d44f-1e2e681a9374",
        "colab": {
          "base_uri": "https://localhost:8080/"
        }
      },
      "execution_count": 25,
      "outputs": [
        {
          "output_type": "stream",
          "name": "stdout",
          "text": [
            "Epoch 1/10\n",
            "1875/1875 [==============================] - 7s 3ms/step - loss: 0.9300 - accuracy: 0.8106 - val_loss: 0.4944 - val_accuracy: 0.8878\n",
            "Epoch 2/10\n",
            "1875/1875 [==============================] - 7s 4ms/step - loss: 0.4192 - accuracy: 0.8958 - val_loss: 0.3592 - val_accuracy: 0.9039\n",
            "Epoch 3/10\n",
            "1875/1875 [==============================] - 6s 3ms/step - loss: 0.3372 - accuracy: 0.9089 - val_loss: 0.3118 - val_accuracy: 0.9148\n",
            "Epoch 4/10\n",
            "1875/1875 [==============================] - 7s 4ms/step - loss: 0.3015 - accuracy: 0.9162 - val_loss: 0.2885 - val_accuracy: 0.9194\n",
            "Epoch 5/10\n",
            "1875/1875 [==============================] - 6s 3ms/step - loss: 0.2803 - accuracy: 0.9218 - val_loss: 0.2720 - val_accuracy: 0.9238\n",
            "Epoch 6/10\n",
            "1875/1875 [==============================] - 7s 4ms/step - loss: 0.2653 - accuracy: 0.9246 - val_loss: 0.2637 - val_accuracy: 0.9245\n",
            "Epoch 7/10\n",
            "1875/1875 [==============================] - 7s 4ms/step - loss: 0.2534 - accuracy: 0.9288 - val_loss: 0.2522 - val_accuracy: 0.9280\n",
            "Epoch 8/10\n",
            "1875/1875 [==============================] - 6s 3ms/step - loss: 0.2443 - accuracy: 0.9304 - val_loss: 0.2486 - val_accuracy: 0.9284\n",
            "Epoch 9/10\n",
            "1875/1875 [==============================] - 7s 4ms/step - loss: 0.2366 - accuracy: 0.9325 - val_loss: 0.2412 - val_accuracy: 0.9312\n",
            "Epoch 10/10\n",
            "1875/1875 [==============================] - 6s 3ms/step - loss: 0.2295 - accuracy: 0.9342 - val_loss: 0.2398 - val_accuracy: 0.9311\n"
          ]
        },
        {
          "output_type": "execute_result",
          "data": {
            "text/plain": [
              "<keras.callbacks.History at 0x7f62e00c12e0>"
            ]
          },
          "metadata": {},
          "execution_count": 25
        }
      ]
    },
    {
      "cell_type": "code",
      "source": [
        "xin = Input(shape=(784))\n",
        "res = Dense(10,activation='tanh') (xin) \n",
        "res2 = Dense(10,activation = \"softmax\")(res)\n",
        "mynet_3 = Model(inputs=xin,outputs=res2)\n",
        "\n",
        "mynet_3.compile(optimizer='adam',loss='categorical_crossentropy',metrics=['accuracy'])\n",
        "mynet_3.fit(x_train,y_train_cat, shuffle=True, epochs=10, batch_size=32,validation_data=(x_test,y_test_cat))"
      ],
      "metadata": {
        "id": "3A3MCgcsJ9ce",
        "outputId": "370507c1-9b2c-4dc9-a033-c42df9f5d249",
        "colab": {
          "base_uri": "https://localhost:8080/"
        }
      },
      "execution_count": 26,
      "outputs": [
        {
          "output_type": "stream",
          "name": "stdout",
          "text": [
            "Epoch 1/10\n",
            "1875/1875 [==============================] - 8s 4ms/step - loss: 0.6047 - accuracy: 0.8500 - val_loss: 0.3431 - val_accuracy: 0.9034\n",
            "Epoch 2/10\n",
            "1875/1875 [==============================] - 6s 3ms/step - loss: 0.3186 - accuracy: 0.9103 - val_loss: 0.2862 - val_accuracy: 0.9204\n",
            "Epoch 3/10\n",
            "1875/1875 [==============================] - 7s 4ms/step - loss: 0.2806 - accuracy: 0.9206 - val_loss: 0.2696 - val_accuracy: 0.9221\n",
            "Epoch 4/10\n",
            "1875/1875 [==============================] - 6s 3ms/step - loss: 0.2613 - accuracy: 0.9250 - val_loss: 0.2551 - val_accuracy: 0.9261\n",
            "Epoch 5/10\n",
            "1875/1875 [==============================] - 7s 4ms/step - loss: 0.2492 - accuracy: 0.9288 - val_loss: 0.2504 - val_accuracy: 0.9276\n",
            "Epoch 6/10\n",
            "1875/1875 [==============================] - 6s 3ms/step - loss: 0.2384 - accuracy: 0.9313 - val_loss: 0.2466 - val_accuracy: 0.9290\n",
            "Epoch 7/10\n",
            "1875/1875 [==============================] - 7s 4ms/step - loss: 0.2308 - accuracy: 0.9331 - val_loss: 0.2406 - val_accuracy: 0.9335\n",
            "Epoch 8/10\n",
            "1875/1875 [==============================] - 6s 3ms/step - loss: 0.2229 - accuracy: 0.9354 - val_loss: 0.2376 - val_accuracy: 0.9334\n",
            "Epoch 9/10\n",
            "1875/1875 [==============================] - 7s 4ms/step - loss: 0.2162 - accuracy: 0.9374 - val_loss: 0.2342 - val_accuracy: 0.9334\n",
            "Epoch 10/10\n",
            "1875/1875 [==============================] - 6s 3ms/step - loss: 0.2109 - accuracy: 0.9382 - val_loss: 0.2281 - val_accuracy: 0.9352\n"
          ]
        },
        {
          "output_type": "execute_result",
          "data": {
            "text/plain": [
              "<keras.callbacks.History at 0x7f62d00531c0>"
            ]
          },
          "metadata": {},
          "execution_count": 26
        }
      ]
    },
    {
      "cell_type": "code",
      "source": [
        "xin = Input(shape=(784))\n",
        "res = Dense(10,activation='elu') (xin) #reduces the effect of the vanishing of the gradient\n",
        "res2 = Dense(10,activation = \"softmax\")(res)\n",
        "mynet_3 = Model(inputs=xin,outputs=res2)\n",
        "\n",
        "mynet_3.compile(optimizer='adam',loss='categorical_crossentropy',metrics=['accuracy'])\n",
        "mynet_3.fit(x_train,y_train_cat, shuffle=True, epochs=10, batch_size=32,validation_data=(x_test,y_test_cat))"
      ],
      "metadata": {
        "id": "NHdHPTxQKbCP",
        "outputId": "d167d810-1d50-4f37-b1c2-84eb81369d60",
        "colab": {
          "base_uri": "https://localhost:8080/"
        }
      },
      "execution_count": 27,
      "outputs": [
        {
          "output_type": "stream",
          "name": "stdout",
          "text": [
            "Epoch 1/10\n",
            "1875/1875 [==============================] - 8s 4ms/step - loss: 0.4997 - accuracy: 0.8636 - val_loss: 0.3067 - val_accuracy: 0.9121\n",
            "Epoch 2/10\n",
            "1875/1875 [==============================] - 7s 4ms/step - loss: 0.2922 - accuracy: 0.9178 - val_loss: 0.2671 - val_accuracy: 0.9245\n",
            "Epoch 3/10\n",
            "1875/1875 [==============================] - 6s 3ms/step - loss: 0.2606 - accuracy: 0.9266 - val_loss: 0.2556 - val_accuracy: 0.9281\n",
            "Epoch 4/10\n",
            "1875/1875 [==============================] - 7s 4ms/step - loss: 0.2409 - accuracy: 0.9312 - val_loss: 0.2393 - val_accuracy: 0.9323\n",
            "Epoch 5/10\n",
            "1875/1875 [==============================] - 6s 3ms/step - loss: 0.2280 - accuracy: 0.9357 - val_loss: 0.2395 - val_accuracy: 0.9316\n",
            "Epoch 6/10\n",
            "1875/1875 [==============================] - 7s 4ms/step - loss: 0.2192 - accuracy: 0.9375 - val_loss: 0.2268 - val_accuracy: 0.9343\n",
            "Epoch 7/10\n",
            "1875/1875 [==============================] - 6s 3ms/step - loss: 0.2123 - accuracy: 0.9397 - val_loss: 0.2223 - val_accuracy: 0.9379\n",
            "Epoch 8/10\n",
            "1875/1875 [==============================] - 7s 4ms/step - loss: 0.2063 - accuracy: 0.9404 - val_loss: 0.2180 - val_accuracy: 0.9369\n",
            "Epoch 9/10\n",
            "1875/1875 [==============================] - 6s 3ms/step - loss: 0.2014 - accuracy: 0.9413 - val_loss: 0.2183 - val_accuracy: 0.9375\n",
            "Epoch 10/10\n",
            "1875/1875 [==============================] - 7s 4ms/step - loss: 0.1977 - accuracy: 0.9430 - val_loss: 0.2147 - val_accuracy: 0.9384\n"
          ]
        },
        {
          "output_type": "execute_result",
          "data": {
            "text/plain": [
              "<keras.callbacks.History at 0x7f62d007a100>"
            ]
          },
          "metadata": {},
          "execution_count": 27
        }
      ]
    },
    {
      "cell_type": "markdown",
      "source": [
        "### 3. Sparce cathegorical crossentropy"
      ],
      "metadata": {
        "id": "AvO5NUPTPgm7"
      }
    },
    {
      "cell_type": "code",
      "source": [
        "xin = Input(shape=(784))\n",
        "res = Dense(10, activation='elu')(xin)\n",
        "res2 = Dense(10, activation=\"softmax\")(res)\n",
        "mynet_3 = Model(inputs=xin, outputs=res2)\n",
        "\n",
        "mynet_3.compile(optimizer='adam', loss=tf.keras.losses.SparseCategoricalCrossentropy(from_logits=True), metrics=['accuracy'])\n",
        "history = mynet_3.fit(x_train, y_train, shuffle=True, epochs=10, batch_size=32, validation_data=(x_test, y_test))"
      ],
      "metadata": {
        "id": "egjU0--QUwPw",
        "outputId": "eaed96e1-0290-4507-8337-ca465fc4b725",
        "colab": {
          "base_uri": "https://localhost:8080/"
        }
      },
      "execution_count": 57,
      "outputs": [
        {
          "output_type": "stream",
          "name": "stdout",
          "text": [
            "Epoch 1/10\n",
            "1875/1875 [==============================] - 7s 3ms/step - loss: 0.4945 - accuracy: 0.8623 - val_loss: 0.3042 - val_accuracy: 0.9118\n",
            "Epoch 2/10\n",
            "1875/1875 [==============================] - 6s 3ms/step - loss: 0.2983 - accuracy: 0.9139 - val_loss: 0.2721 - val_accuracy: 0.9190\n",
            "Epoch 3/10\n",
            "1875/1875 [==============================] - 6s 3ms/step - loss: 0.2709 - accuracy: 0.9234 - val_loss: 0.2660 - val_accuracy: 0.9243\n",
            "Epoch 4/10\n",
            "1875/1875 [==============================] - 6s 3ms/step - loss: 0.2568 - accuracy: 0.9275 - val_loss: 0.2530 - val_accuracy: 0.9261\n",
            "Epoch 5/10\n",
            "1875/1875 [==============================] - 5s 3ms/step - loss: 0.2462 - accuracy: 0.9296 - val_loss: 0.2518 - val_accuracy: 0.9260\n",
            "Epoch 6/10\n",
            "1875/1875 [==============================] - 7s 4ms/step - loss: 0.2391 - accuracy: 0.9322 - val_loss: 0.2442 - val_accuracy: 0.9302\n",
            "Epoch 7/10\n",
            "1875/1875 [==============================] - 5s 3ms/step - loss: 0.2329 - accuracy: 0.9338 - val_loss: 0.2420 - val_accuracy: 0.9326\n",
            "Epoch 8/10\n",
            "1875/1875 [==============================] - 7s 3ms/step - loss: 0.2274 - accuracy: 0.9345 - val_loss: 0.2411 - val_accuracy: 0.9294\n",
            "Epoch 9/10\n",
            "1875/1875 [==============================] - 5s 3ms/step - loss: 0.2236 - accuracy: 0.9361 - val_loss: 0.2407 - val_accuracy: 0.9326\n",
            "Epoch 10/10\n",
            "1875/1875 [==============================] - 6s 3ms/step - loss: 0.2194 - accuracy: 0.9368 - val_loss: 0.2400 - val_accuracy: 0.9329\n"
          ]
        }
      ]
    },
    {
      "cell_type": "markdown",
      "source": [
        "### 4. Make a plot "
      ],
      "metadata": {
        "id": "GZeV3duBZhzo"
      }
    },
    {
      "cell_type": "code",
      "source": [
        "import matplotlib.pyplot as plt \n",
        "plt.plot(history.history['loss'], label='train_loss')\n",
        "plt.plot(history.history['val_loss'], label='val_loss')\n",
        "plt.plot(history.history['accuracy'], label='train_acc')\n",
        "plt.plot(history.history['val_accuracy'], label='val_acc')\n",
        "plt.title('Training history')\n",
        "plt.xlabel('Epoch')\n",
        "plt.ylabel('Metrics')\n",
        "plt.legend()\n",
        "plt.show()"
      ],
      "metadata": {
        "id": "t9igKSnZZlV5",
        "outputId": "afdfa557-3137-4e71-f19e-50f63141e4e1",
        "colab": {
          "base_uri": "https://localhost:8080/",
          "height": 472
        }
      },
      "execution_count": 59,
      "outputs": [
        {
          "output_type": "display_data",
          "data": {
            "text/plain": [
              "<Figure size 640x480 with 1 Axes>"
            ],
            "image/png": "[encoded data removed]"
          },
          "metadata": {}
        }
      ]
    }
  ]
}