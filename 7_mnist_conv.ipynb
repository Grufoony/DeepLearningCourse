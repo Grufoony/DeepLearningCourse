{
  "nbformat": 4,
  "nbformat_minor": 0,
  "metadata": {
    "colab": {
      "provenance": [],
      "include_colab_link": true
    },
    "kernelspec": {
      "name": "python3",
      "display_name": "Python 3"
    },
    "accelerator": "GPU"
  },
  "cells": [
    {
      "cell_type": "markdown",
      "metadata": {
        "id": "view-in-github",
        "colab_type": "text"
      },
      "source": [
        "<a href=\"https://colab.research.google.com/github/francesco-source/DeepLearning/blob/main/7_mnist_conv.ipynb\" target=\"_parent\"><img src=\"https://colab.research.google.com/assets/colab-badge.svg\" alt=\"Open In Colab\"/></a>"
      ]
    },
    {
      "cell_type": "markdown",
      "metadata": {
        "id": "QX15PRrJq_zX"
      },
      "source": [
        "This notebook is meant to introduce convolutional layers, with special emphasis on the relation between the dimension of the input tensor, the kernel size, the stride, the number of filters and the dimension of the output tensor."
      ]
    },
    {
      "cell_type": "code",
      "source": [
        "import tensorflow as tf"
      ],
      "metadata": {
        "id": "jjDI4eEQZ9Xc"
      },
      "execution_count": 25,
      "outputs": []
    },
    {
      "cell_type": "code",
      "metadata": {
        "id": "atmltv8-UZW9"
      },
      "source": [
        "from tensorflow.keras.layers import Input, Conv2D, ZeroPadding2D, Dense, Flatten, Layer\n",
        "from tensorflow.keras.models import Model\n",
        "from tensorflow.keras import metrics\n",
        "from tensorflow.keras.datasets import mnist"
      ],
      "execution_count": 26,
      "outputs": []
    },
    {
      "cell_type": "markdown",
      "metadata": {
        "id": "MDH8iUaxrvZB"
      },
      "source": [
        "We run the example over the mnist data set. Keras provides a very friendly access to several renowed databases, comprising mnist, cifar10, cifar100, IMDB and many others. See https://keras.io/api/datasets/ for documentation"
      ]
    },
    {
      "cell_type": "code",
      "metadata": {
        "id": "5j-DYkTaz3Ts"
      },
      "source": [
        "import numpy as np\n",
        "(x_train, y_train), (x_test, y_test) = mnist.load_data()"
      ],
      "execution_count": 27,
      "outputs": []
    },
    {
      "cell_type": "markdown",
      "metadata": {
        "id": "nOMU1JxB0BRH"
      },
      "source": [
        "Mnist images are grayscale images with pixels in the range [0,255].\n",
        "We pass to floats, and normalize them in the range [0,1]."
      ]
    },
    {
      "cell_type": "code",
      "metadata": {
        "id": "G78aNHyG0bWD"
      },
      "source": [
        "x_train = x_train.astype('float32') / 255.\n",
        "x_test = x_test.astype('float32') / 255."
      ],
      "execution_count": 28,
      "outputs": []
    },
    {
      "cell_type": "markdown",
      "metadata": {
        "id": "5aYDPNGn0n73"
      },
      "source": [
        "Bidimensional convolutions expect input with three dimensions (plus an additional batchsize dimension): width, height, channels. \n",
        "Since mnist digits have only two dimensions (being in grayscale), we need to extend them with an additional dimension."
      ]
    },
    {
      "cell_type": "code",
      "metadata": {
        "id": "koAbxpngVCsq",
        "colab": {
          "base_uri": "https://localhost:8080/"
        },
        "outputId": "1df2076b-1cda-4f2f-8e93-8c34f3d69de9"
      },
      "source": [
        "(n,w,h) = x_train.shape\n",
        "x_train = x_train.reshape(n,w,h,1)\n",
        "(n,w,h) = x_test.shape\n",
        "x_test = x_test.reshape(n,w,h,1)\n",
        "print(x_train.shape)\n",
        "print(x_test.shape)"
      ],
      "execution_count": 29,
      "outputs": [
        {
          "output_type": "stream",
          "name": "stdout",
          "text": [
            "(60000, 28, 28, 1)\n",
            "(10000, 28, 28, 1)\n"
          ]
        }
      ]
    },
    {
      "cell_type": "markdown",
      "metadata": {
        "id": "mOp2WtJJsrpn"
      },
      "source": [
        "Mnist labels are integers in the range [0,9]. Since the network will produce probabilities for each one of these categories, if we want to compare it with the ground trouth probability using categorical crossentropy, that is the traditional choice, we should change each integer in its categorical description, using e.g. the \"to_categorical\" function in utils.\n",
        "\n",
        "Alternatively, we can use the so called \"sparse categorical crossentropy\" loss function https://www.tensorflow.org/api_docs/python/tf/keras/losses/SparseCategoricalCrossentropy that allows us to directly compare predictions with labels."
      ]
    },
    {
      "cell_type": "code",
      "metadata": {
        "id": "ZK--l9nzs9F-"
      },
      "source": [
        "#y_train = keras.utils.to_categorical(y_train)\n",
        "#y_test = keras.utils.to_categorical(y_test)"
      ],
      "execution_count": 30,
      "outputs": []
    },
    {
      "cell_type": "markdown",
      "metadata": {
        "id": "ZO6JwhwnurFi"
      },
      "source": [
        "Let us come to the convolutional network. We define a simple network composed by three convolutional layers, followed by a couple of Dense layers."
      ]
    },
    {
      "cell_type": "code",
      "metadata": {
        "id": "hVUe816fUyu6"
      },
      "source": [
        "xin = Input(shape=(28,28,1))\n",
        "x = Conv2D(16,(3,3),strides=(2,2),padding='valid')(xin)\n",
        "x = Conv2D(32,(3,3),strides=(2,2),padding='valid')(x)\n",
        "x = Conv2D(64,(3,3),strides=(2,2),padding='valid')(x)\n",
        "x = Flatten()(x)\n",
        "x = Dense(64, activation ='relu')(x)\n",
        "res = Dense(10,activation = 'softmax')(x)\n",
        "\n",
        "mynet = Model(inputs=xin,outputs=res)"
      ],
      "execution_count": 36,
      "outputs": []
    },
    {
      "cell_type": "markdown",
      "metadata": {
        "id": "wBDN-sBi7uUO"
      },
      "source": [
        "Let's have a look at the summary"
      ]
    },
    {
      "cell_type": "code",
      "metadata": {
        "id": "sgWQT4jHZUR3",
        "colab": {
          "base_uri": "https://localhost:8080/"
        },
        "outputId": "cfa4966b-41d2-455d-ebab-a883b1eca094"
      },
      "source": [
        "mynet.summary()"
      ],
      "execution_count": 37,
      "outputs": [
        {
          "output_type": "stream",
          "name": "stdout",
          "text": [
            "Model: \"model_4\"\n",
            "_________________________________________________________________\n",
            " Layer (type)                Output Shape              Param #   \n",
            "=================================================================\n",
            " input_6 (InputLayer)        [(None, 28, 28, 1)]       0         \n",
            "                                                                 \n",
            " conv2d_13 (Conv2D)          (None, 13, 13, 16)        160       \n",
            "                                                                 \n",
            " conv2d_14 (Conv2D)          (None, 6, 6, 32)          4640      \n",
            "                                                                 \n",
            " conv2d_15 (Conv2D)          (None, 2, 2, 64)          18496     \n",
            "                                                                 \n",
            " flatten_4 (Flatten)         (None, 256)               0         \n",
            "                                                                 \n",
            " dense_8 (Dense)             (None, 64)                16448     \n",
            "                                                                 \n",
            " dense_9 (Dense)             (None, 10)                650       \n",
            "                                                                 \n",
            "=================================================================\n",
            "Total params: 40,394\n",
            "Trainable params: 40,394\n",
            "Non-trainable params: 0\n",
            "_________________________________________________________________\n"
          ]
        }
      ]
    },
    {
      "cell_type": "markdown",
      "metadata": {
        "id": "iiFJ6HMQ8icY"
      },
      "source": [
        "In valid mode, no padding is applied. \n",
        "Along each axis, the output dimension O is computed from the input dimension I using the formula O=(I-K)/S +1, where K is the kernel dimension and S is the stride.\n",
        "\n",
        "For all layers, K=3 and S=2. So, for the first conv we pass from dimension 28\n",
        "to dimension (28-3)/2+1 = 13, then to dimension (13-3)/2+1 = 6 and finally to dimension (6-3)/2+1 = 2. \n",
        "\n",
        "Exercise: modify \"valid\" to \"same\" and see what happens.\n",
        "\n",
        "The second important point is about the number of parameters.\n",
        "You must keep in mind that a kernel of dimension K1 x K2 has an actual dimension K1 x K2 x CI, where CI is number of input channels: in other words the kernel is computing at the same time spatial and cross-channel correlations.\n",
        "\n",
        "So, for the first convolution, we have 3 x 3 x 1 + 1 = 10 parameters for each filter (1 for the bias), and since we are computing 16 filters, the number of parameters is 10 x 16 = 160.\n",
        "\n",
        "For the second convolution, each filter has 3 x 3 x 16 + 1 = 145 parameters, ans since we have 32 filters, the total number of parameters is 145 x 32 = 4640.\n",
        "\n"
      ]
    },
    {
      "cell_type": "markdown",
      "metadata": {
        "id": "Lj77T0xDBbkc"
      },
      "source": [
        "Let us come to training.\n",
        "\n",
        "In addition to the optimizer and the loss, we also pass a \"metrics\" argument. Metrics are additional functions that are not directly used for training, but allows us to monitor its advancement. For instance, we use accuracy, in this case (sparse, because we are using labels, and cateogrical because we have multiple categories)."
      ]
    },
    {
      "cell_type": "code",
      "metadata": {
        "id": "5woK9FZhd2CA"
      },
      "source": [
        "mynet.compile(optimizer='adam',loss='sparse_categorical_crossentropy', metrics=[metrics.SparseCategoricalAccuracy()])"
      ],
      "execution_count": 38,
      "outputs": []
    },
    {
      "cell_type": "code",
      "metadata": {
        "id": "flvXXtQwbvFR",
        "colab": {
          "base_uri": "https://localhost:8080/"
        },
        "outputId": "815cff90-3a47-4e40-82ce-1d81806958a9"
      },
      "source": [
        "mynet.fit(x_train,y_train, shuffle=True, epochs=10, batch_size=32,validation_data=(x_test,y_test))"
      ],
      "execution_count": 39,
      "outputs": [
        {
          "output_type": "stream",
          "name": "stdout",
          "text": [
            "Epoch 1/10\n",
            "1875/1875 [==============================] - 10s 4ms/step - loss: 0.2662 - sparse_categorical_accuracy: 0.9209 - val_loss: 0.1398 - val_sparse_categorical_accuracy: 0.9580\n",
            "Epoch 2/10\n",
            "1875/1875 [==============================] - 7s 4ms/step - loss: 0.1376 - sparse_categorical_accuracy: 0.9588 - val_loss: 0.1197 - val_sparse_categorical_accuracy: 0.9636\n",
            "Epoch 3/10\n",
            "1875/1875 [==============================] - 8s 4ms/step - loss: 0.1106 - sparse_categorical_accuracy: 0.9669 - val_loss: 0.1098 - val_sparse_categorical_accuracy: 0.9676\n",
            "Epoch 4/10\n",
            "1875/1875 [==============================] - 7s 4ms/step - loss: 0.0977 - sparse_categorical_accuracy: 0.9700 - val_loss: 0.0941 - val_sparse_categorical_accuracy: 0.9703\n",
            "Epoch 5/10\n",
            "1875/1875 [==============================] - 8s 4ms/step - loss: 0.0875 - sparse_categorical_accuracy: 0.9724 - val_loss: 0.1167 - val_sparse_categorical_accuracy: 0.9666\n",
            "Epoch 6/10\n",
            "1875/1875 [==============================] - 7s 4ms/step - loss: 0.0799 - sparse_categorical_accuracy: 0.9747 - val_loss: 0.1003 - val_sparse_categorical_accuracy: 0.9709\n",
            "Epoch 7/10\n",
            "1875/1875 [==============================] - 7s 4ms/step - loss: 0.0727 - sparse_categorical_accuracy: 0.9776 - val_loss: 0.0903 - val_sparse_categorical_accuracy: 0.9745\n",
            "Epoch 8/10\n",
            "1875/1875 [==============================] - 8s 4ms/step - loss: 0.0673 - sparse_categorical_accuracy: 0.9789 - val_loss: 0.0876 - val_sparse_categorical_accuracy: 0.9730\n",
            "Epoch 9/10\n",
            "1875/1875 [==============================] - 7s 4ms/step - loss: 0.0637 - sparse_categorical_accuracy: 0.9797 - val_loss: 0.0835 - val_sparse_categorical_accuracy: 0.9755\n",
            "Epoch 10/10\n",
            "1875/1875 [==============================] - 8s 4ms/step - loss: 0.0601 - sparse_categorical_accuracy: 0.9812 - val_loss: 0.0792 - val_sparse_categorical_accuracy: 0.9763\n"
          ]
        },
        {
          "output_type": "execute_result",
          "data": {
            "text/plain": [
              "<keras.callbacks.History at 0x7fec102b94f0>"
            ]
          },
          "metadata": {},
          "execution_count": 39
        }
      ]
    }
  ]
}