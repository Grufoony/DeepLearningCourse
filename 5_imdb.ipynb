{
  "nbformat": 4,
  "nbformat_minor": 0,
  "metadata": {
    "colab": {
      "provenance": [],
      "include_colab_link": true
    },
    "kernelspec": {
      "name": "python3",
      "display_name": "Python 3"
    }
  },
  "cells": [
    {
      "cell_type": "markdown",
      "metadata": {
        "id": "view-in-github",
        "colab_type": "text"
      },
      "source": [
        "<a href=\"https://colab.research.google.com/github/francesco-source/DeepLearning/blob/main/5_imdb.ipynb\" target=\"_parent\"><img src=\"https://colab.research.google.com/assets/colab-badge.svg\" alt=\"Open In Colab\"/></a>"
      ]
    },
    {
      "cell_type": "markdown",
      "metadata": {
        "id": "haUUbAip1yDE"
      },
      "source": [
        "# Overfitting on the IMDB movie reviews dataset"
      ]
    },
    {
      "cell_type": "markdown",
      "metadata": {
        "id": "Alo9UeDCuPPV"
      },
      "source": [
        "In this notebook we shall focus on overfitting, demonstrating the phenomenon and studying techniques to address it. The dataset we shall use is the IMDB movie reviews dataset, composed of 25,000 movies reviews, labeled by sentiment (positive/negative).\n",
        "\n",
        "To prevent overfitting, the best solution is to use more training data. When that is not a\n",
        "viable possibility, you can try to use regularization techniques, constraining the quantity and quality of information stored by the model. If a network can only afford to memorize a small number of patterns, the optimization process will force it to focus on the most prominent ones, which have a better chance of generalizing well.\n",
        "\n"
      ]
    },
    {
      "cell_type": "code",
      "metadata": {
        "id": "BSk2z9PFZ-9L"
      },
      "source": [
        "from keras.layers import Input, Dense\n",
        "from keras.models import Model\n",
        "from keras.datasets import imdb\n",
        "import matplotlib.pyplot as plt\n",
        "import numpy as np"
      ],
      "execution_count": 1,
      "outputs": []
    },
    {
      "cell_type": "markdown",
      "metadata": {
        "id": "ztsNnb6iwK9C"
      },
      "source": [
        "Let us load the dataset. In keras, the dataset is preprocessed, and each review is encoded as a sequence of word indexes (integers). For convenience, words are indexed by overall frequency in the dataset, so that for instance the integer \"3\" encodes the 3rd most frequent word in the data. "
      ]
    },
    {
      "cell_type": "code",
      "metadata": {
        "id": "FJPbQOuMarDA",
        "colab": {
          "base_uri": "https://localhost:8080/"
        },
        "outputId": "28e7d968-8919-461c-eb40-4c7dfd8f2789"
      },
      "source": [
        "num_words = 500\n",
        "(x_train, y_train), (x_test, y_test) = imdb.load_data(path=\"imdb.npz\",\n",
        "                                                      num_words=num_words)"
      ],
      "execution_count": 2,
      "outputs": [
        {
          "output_type": "stream",
          "name": "stdout",
          "text": [
            "Downloading data from https://storage.googleapis.com/tensorflow/tf-keras-datasets/imdb.npz\n",
            "17464789/17464789 [==============================] - 0s 0us/step\n"
          ]
        }
      ]
    },
    {
      "cell_type": "markdown",
      "metadata": {
        "id": "JRXaS5dmMpCF"
      },
      "source": [
        "Let us a look at the encoding of the first review."
      ]
    },
    {
      "cell_type": "code",
      "metadata": {
        "id": "xQjD51tfbAwr",
        "colab": {
          "base_uri": "https://localhost:8080/"
        },
        "outputId": "68b9d8f4-20a5-4b0b-c7e6-57224588c508"
      },
      "source": [
        "print(x_train[0])"
      ],
      "execution_count": 3,
      "outputs": [
        {
          "output_type": "stream",
          "name": "stdout",
          "text": [
            "[1, 14, 22, 16, 43, 2, 2, 2, 2, 65, 458, 2, 66, 2, 4, 173, 36, 256, 5, 25, 100, 43, 2, 112, 50, 2, 2, 9, 35, 480, 284, 5, 150, 4, 172, 112, 167, 2, 336, 385, 39, 4, 172, 2, 2, 17, 2, 38, 13, 447, 4, 192, 50, 16, 6, 147, 2, 19, 14, 22, 4, 2, 2, 469, 4, 22, 71, 87, 12, 16, 43, 2, 38, 76, 15, 13, 2, 4, 22, 17, 2, 17, 12, 16, 2, 18, 2, 5, 62, 386, 12, 8, 316, 8, 106, 5, 4, 2, 2, 16, 480, 66, 2, 33, 4, 130, 12, 16, 38, 2, 5, 25, 124, 51, 36, 135, 48, 25, 2, 33, 6, 22, 12, 215, 28, 77, 52, 5, 14, 407, 16, 82, 2, 8, 4, 107, 117, 2, 15, 256, 4, 2, 7, 2, 5, 2, 36, 71, 43, 2, 476, 26, 400, 317, 46, 7, 4, 2, 2, 13, 104, 88, 4, 381, 15, 297, 98, 32, 2, 56, 26, 141, 6, 194, 2, 18, 4, 226, 22, 21, 134, 476, 26, 480, 5, 144, 30, 2, 18, 51, 36, 28, 224, 92, 25, 104, 4, 226, 65, 16, 38, 2, 88, 12, 16, 283, 5, 16, 2, 113, 103, 32, 15, 16, 2, 19, 178, 32]\n"
          ]
        }
      ]
    },
    {
      "cell_type": "markdown",
      "metadata": {
        "id": "M_52OeyDw7-2"
      },
      "source": [
        "This representation has a variable length dimension, that is not very stuitable for a neural network. \n",
        "\n",
        "Let us transform it into a multi_hot encoding of of dimension equal to num_words. In this representation, a word gets index 1 if it appears in the document. It is essentially a bag-of-words encoding."
      ]
    },
    {
      "cell_type": "code",
      "metadata": {
        "id": "alcGwlTXbK83"
      },
      "source": [
        "def multi_hot_sequences(sequences, dimension): \n",
        "  multi_hot = np.zeros((len(sequences),dimension))\n",
        "  for i in range(0,len(sequences)):\n",
        "    multi_hot[i, sequences[i]] = 1\n",
        "  return multi_hot\n",
        "\n",
        "x_train = multi_hot_sequences(x_train, num_words)\n",
        "x_test = multi_hot_sequences(x_test, num_words)"
      ],
      "execution_count": 4,
      "outputs": []
    },
    {
      "cell_type": "markdown",
      "metadata": {
        "id": "j8FqTkPgxeS3"
      },
      "source": [
        "Let us have a look at the initial part of the encoding for the first review."
      ]
    },
    {
      "cell_type": "code",
      "metadata": {
        "id": "LEqk4W3nbaOi",
        "colab": {
          "base_uri": "https://localhost:8080/"
        },
        "outputId": "0ad3f4e9-ec72-4704-cda3-427b16144499"
      },
      "source": [
        "print(x_train[0,0:30])"
      ],
      "execution_count": 5,
      "outputs": [
        {
          "output_type": "stream",
          "name": "stdout",
          "text": [
            "[0. 1. 1. 0. 1. 1. 1. 1. 1. 1. 0. 0. 1. 1. 1. 1. 1. 1. 1. 1. 0. 1. 1. 0.\n",
            " 0. 1. 1. 0. 1. 0.]\n"
          ]
        }
      ]
    },
    {
      "cell_type": "markdown",
      "metadata": {
        "id": "UaJM6ZdCxnu0"
      },
      "source": [
        "We now define our first model, that is just a concatenation of three dense layers."
      ]
    },
    {
      "cell_type": "code",
      "metadata": {
        "id": "fIh5mHNDbncA"
      },
      "source": [
        "seq = Input(shape=(num_words,))\n",
        "x = Dense(64, activation='relu')(seq)\n",
        "x = Dense(16, activation='relu')(x)\n",
        "x = Dense(1, activation='sigmoid')(x)\n",
        "\n",
        "base_model = Model(seq, x)"
      ],
      "execution_count": 6,
      "outputs": []
    },
    {
      "cell_type": "code",
      "metadata": {
        "id": "UDCNRoQLbszt",
        "colab": {
          "base_uri": "https://localhost:8080/"
        },
        "outputId": "b1fe344c-8096-421c-daf9-8e11f03f32f6"
      },
      "source": [
        "base_model.summary()"
      ],
      "execution_count": 7,
      "outputs": [
        {
          "output_type": "stream",
          "name": "stdout",
          "text": [
            "Model: \"model\"\n",
            "_________________________________________________________________\n",
            " Layer (type)                Output Shape              Param #   \n",
            "=================================================================\n",
            " input_1 (InputLayer)        [(None, 500)]             0         \n",
            "                                                                 \n",
            " dense (Dense)               (None, 64)                32064     \n",
            "                                                                 \n",
            " dense_1 (Dense)             (None, 16)                1040      \n",
            "                                                                 \n",
            " dense_2 (Dense)             (None, 1)                 17        \n",
            "                                                                 \n",
            "=================================================================\n",
            "Total params: 33,121\n",
            "Trainable params: 33,121\n",
            "Non-trainable params: 0\n",
            "_________________________________________________________________\n"
          ]
        }
      ]
    },
    {
      "cell_type": "markdown",
      "metadata": {
        "id": "dg7OlD3px5b5"
      },
      "source": [
        "We compile the model using adam as optimizer, and binary crossentropy (log likelyhood) as loss function. The fit function returns a history of the training, that can be later inspected. In addition to the loss function, that is the canonical metric used for training, we also ask the model to keep trace of accuracy."
      ]
    },
    {
      "cell_type": "code",
      "metadata": {
        "id": "zN2Z1A6KcD5U"
      },
      "source": [
        "base_model.compile(optimizer='adam', loss='binary_crossentropy', metrics=['accuracy'])"
      ],
      "execution_count": 8,
      "outputs": []
    },
    {
      "cell_type": "code",
      "metadata": {
        "id": "mVhduLsrcObg",
        "colab": {
          "base_uri": "https://localhost:8080/"
        },
        "outputId": "d8b9fe3e-7f8b-43ae-fac8-4cd214f0df56"
      },
      "source": [
        "base_history = base_model.fit(\n",
        "    x_train,\n",
        "    y_train,\n",
        "    epochs = 6,\n",
        "    batch_size = 512,\n",
        "    validation_data = (x_test, y_test),\n",
        "    verbose = 1\n",
        ")"
      ],
      "execution_count": 9,
      "outputs": [
        {
          "output_type": "stream",
          "name": "stdout",
          "text": [
            "Epoch 1/6\n",
            "49/49 [==============================] - 3s 29ms/step - loss: 0.5420 - accuracy: 0.7265 - val_loss: 0.4209 - val_accuracy: 0.8132\n",
            "Epoch 2/6\n",
            "49/49 [==============================] - 1s 14ms/step - loss: 0.3927 - accuracy: 0.8286 - val_loss: 0.3987 - val_accuracy: 0.8238\n",
            "Epoch 3/6\n",
            "49/49 [==============================] - 1s 22ms/step - loss: 0.3719 - accuracy: 0.8377 - val_loss: 0.3849 - val_accuracy: 0.8315\n",
            "Epoch 4/6\n",
            "49/49 [==============================] - 1s 20ms/step - loss: 0.3624 - accuracy: 0.8419 - val_loss: 0.3805 - val_accuracy: 0.8327\n",
            "Epoch 5/6\n",
            "49/49 [==============================] - 1s 13ms/step - loss: 0.3545 - accuracy: 0.8455 - val_loss: 0.3799 - val_accuracy: 0.8333\n",
            "Epoch 6/6\n",
            "49/49 [==============================] - 0s 9ms/step - loss: 0.3511 - accuracy: 0.8471 - val_loss: 0.3794 - val_accuracy: 0.8316\n"
          ]
        }
      ]
    },
    {
      "cell_type": "markdown",
      "metadata": {
        "id": "JlIRDSnNy57N"
      },
      "source": [
        "Let us see the keys available in our history."
      ]
    },
    {
      "cell_type": "code",
      "metadata": {
        "id": "-C0VudEIciL1",
        "colab": {
          "base_uri": "https://localhost:8080/"
        },
        "outputId": "ad11686b-4550-49fb-a650-bcf73da553af"
      },
      "source": [
        "print(base_history.history.keys())"
      ],
      "execution_count": 10,
      "outputs": [
        {
          "output_type": "stream",
          "name": "stdout",
          "text": [
            "dict_keys(['loss', 'accuracy', 'val_loss', 'val_accuracy'])\n"
          ]
        }
      ]
    },
    {
      "cell_type": "markdown",
      "metadata": {
        "id": "CsvLwbjLzFUf"
      },
      "source": [
        "The following function allows us to plot the results."
      ]
    },
    {
      "cell_type": "code",
      "metadata": {
        "id": "7TdM-_YpcyiZ",
        "colab": {
          "base_uri": "https://localhost:8080/",
          "height": 544
        },
        "outputId": "334443aa-ebfc-44cd-8054-979ed4302c2b"
      },
      "source": [
        "def plot_history(model_history,keys):\n",
        "    m,val_m = keys\n",
        "    plt.plot(model_history.history[m])\n",
        "    plt.plot(model_history.history[val_m])\n",
        "    plt.ylabel(m)\n",
        "    plt.xlabel('epoch')\n",
        "    plt.legend(['train', 'test'], loc='upper left')\n",
        "    plt.show()\n",
        "\n",
        "plot_history(base_history,['accuracy','val_accuracy'])\n",
        "plot_history(base_history,['loss','val_loss'])\n"
      ],
      "execution_count": 11,
      "outputs": [
        {
          "output_type": "display_data",
          "data": {
            "text/plain": [
              "<Figure size 432x288 with 1 Axes>"
            ],
            "image/png": "[encoded data removed]"
          },
          "metadata": {
            "needs_background": "light"
          }
        },
        {
          "output_type": "display_data",
          "data": {
            "text/plain": [
              "<Figure size 432x288 with 1 Axes>"
            ],
            "image/png": "[encoded data removed]"
          },
          "metadata": {
            "needs_background": "light"
          }
        }
      ]
    },
    {
      "cell_type": "markdown",
      "metadata": {
        "id": "IXZ69_z61pTC"
      },
      "source": [
        "# Weight regularization"
      ]
    },
    {
      "cell_type": "markdown",
      "metadata": {
        "id": "Vt3bBvXZzMU0"
      },
      "source": [
        "Now we modify our base model adding regularizers. \n",
        "\n",
        "A common way to mitigate overfitting is to reduce the complexity of the network by forcing its weights to only take small values, making the distribution of weights more “regular”. This is called “weight regularization”, and it is done by adding to the loss function of the network an additional cost associated with having large weights. "
      ]
    },
    {
      "cell_type": "code",
      "metadata": {
        "id": "s22gY8U1dkYo"
      },
      "source": [
        "from keras import regularizers\n",
        "\n",
        "seq = Input(shape=(num_words,))\n",
        "x = Dense(64, activation='relu', kernel_regularizer=regularizers.l2(0.005))(seq)\n",
        "x = Dense(16, activation='relu',kernel_regularizer=regularizers.l2(0.005))(x)\n",
        "x = Dense(1, activation='sigmoid')(x)\n",
        "\n",
        "l2reg_model = Model(seq, x)"
      ],
      "execution_count": 12,
      "outputs": []
    },
    {
      "cell_type": "code",
      "metadata": {
        "id": "VDnk7L2Eeh7q"
      },
      "source": [
        "l2reg_model.compile(optimizer='adam', loss='binary_crossentropy', metrics=['accuracy'])"
      ],
      "execution_count": 13,
      "outputs": []
    },
    {
      "cell_type": "code",
      "metadata": {
        "id": "4fuUgMPpewd_",
        "colab": {
          "base_uri": "https://localhost:8080/"
        },
        "outputId": "19dba118-a9eb-4419-bf03-9dd7dc4b3fe1"
      },
      "source": [
        "l2reg_history = l2reg_model.fit(\n",
        "    x_train,\n",
        "    y_train,\n",
        "    epochs = 5,\n",
        "    batch_size = 512,\n",
        "    validation_data = (x_test, y_test),\n",
        "    verbose = 2\n",
        ")"
      ],
      "execution_count": 14,
      "outputs": [
        {
          "output_type": "stream",
          "name": "stdout",
          "text": [
            "Epoch 1/5\n",
            "49/49 - 1s - loss: 1.0915 - accuracy: 0.6952 - val_loss: 0.8048 - val_accuracy: 0.8027 - 1s/epoch - 28ms/step\n",
            "Epoch 2/5\n",
            "49/49 - 0s - loss: 0.6757 - accuracy: 0.8194 - val_loss: 0.6018 - val_accuracy: 0.8244 - 385ms/epoch - 8ms/step\n",
            "Epoch 3/5\n",
            "49/49 - 0s - loss: 0.5585 - accuracy: 0.8308 - val_loss: 0.5324 - val_accuracy: 0.8310 - 398ms/epoch - 8ms/step\n",
            "Epoch 4/5\n",
            "49/49 - 0s - loss: 0.5088 - accuracy: 0.8351 - val_loss: 0.5003 - val_accuracy: 0.8306 - 362ms/epoch - 7ms/step\n",
            "Epoch 5/5\n",
            "49/49 - 0s - loss: 0.4838 - accuracy: 0.8342 - val_loss: 0.4909 - val_accuracy: 0.8249 - 350ms/epoch - 7ms/step\n"
          ]
        }
      ]
    },
    {
      "cell_type": "code",
      "metadata": {
        "id": "t3TrT7ydfVgw",
        "colab": {
          "base_uri": "https://localhost:8080/",
          "height": 542
        },
        "outputId": "b2b62d61-01f8-4834-a163-23bda9fdde1b"
      },
      "source": [
        "plot_history(l2reg_history,['accuracy','val_accuracy'])\n",
        "plot_history(l2reg_history,['loss','val_loss'])"
      ],
      "execution_count": 15,
      "outputs": [
        {
          "output_type": "display_data",
          "data": {
            "text/plain": [
              "<Figure size 432x288 with 1 Axes>"
            ],
            "image/png": "[encoded data removed]"
          },
          "metadata": {
            "needs_background": "light"
          }
        },
        {
          "output_type": "display_data",
          "data": {
            "text/plain": [
              "<Figure size 432x288 with 1 Axes>"
            ],
            "image/png": "[encoded data removed]"
          },
          "metadata": {
            "needs_background": "light"
          }
        }
      ]
    },
    {
      "cell_type": "markdown",
      "metadata": {
        "id": "fZs5oVRF0LAK"
      },
      "source": [
        "# Dropout"
      ]
    },
    {
      "cell_type": "markdown",
      "metadata": {
        "id": "QtVCugQW09_1"
      },
      "source": [
        "Dropout is an alternativeregularization techniques for neural networks. It consists of randomly “dropping out” (i.e. set to zero) a number of output features of the layer during training. \n",
        "\n",
        "At test time, no units are dropped out, but the layer’s output values are scaled down by a factor equal to the dropout rate, so as to balance for the fact that more units are active than at training time."
      ]
    },
    {
      "cell_type": "code",
      "metadata": {
        "id": "i_ZA6nn3hI8G"
      },
      "source": [
        "from keras.layers import Dropout\n",
        "from keras import optimizers"
      ],
      "execution_count": 16,
      "outputs": []
    },
    {
      "cell_type": "markdown",
      "metadata": {
        "id": "lyCHPs5W1XNo"
      },
      "source": [
        "Let’s add a couple of dropout layers in our IMDB network and see how it performs.\n"
      ]
    },
    {
      "cell_type": "code",
      "metadata": {
        "id": "XNNVUxxThTtO"
      },
      "source": [
        "seq = Input(shape=(num_words,))\n",
        "x = Dense(64, activation='relu')(seq)\n",
        "x = Dropout(0.5)(x)\n",
        "x = Dense(16, activation='relu')(x)\n",
        "x = Dropout(0.5)(x)\n",
        "x = Dense(1, activation='sigmoid')(x)\n",
        "\n",
        "dropout_model = Model(seq, x)"
      ],
      "execution_count": 17,
      "outputs": []
    },
    {
      "cell_type": "code",
      "metadata": {
        "id": "MtwSyEeYh5jS"
      },
      "source": [
        "dropout_model.compile(optimizer='adam', loss='binary_crossentropy', metrics=['accuracy'])"
      ],
      "execution_count": 18,
      "outputs": []
    },
    {
      "cell_type": "code",
      "metadata": {
        "id": "E-BUqoVgq1NE",
        "colab": {
          "base_uri": "https://localhost:8080/"
        },
        "outputId": "2231b515-cef7-4d8e-801a-622745a3b327"
      },
      "source": [
        "dropout_model.summary()"
      ],
      "execution_count": 19,
      "outputs": [
        {
          "output_type": "stream",
          "name": "stdout",
          "text": [
            "Model: \"model_2\"\n",
            "_________________________________________________________________\n",
            " Layer (type)                Output Shape              Param #   \n",
            "=================================================================\n",
            " input_3 (InputLayer)        [(None, 500)]             0         \n",
            "                                                                 \n",
            " dense_6 (Dense)             (None, 64)                32064     \n",
            "                                                                 \n",
            " dropout (Dropout)           (None, 64)                0         \n",
            "                                                                 \n",
            " dense_7 (Dense)             (None, 16)                1040      \n",
            "                                                                 \n",
            " dropout_1 (Dropout)         (None, 16)                0         \n",
            "                                                                 \n",
            " dense_8 (Dense)             (None, 1)                 17        \n",
            "                                                                 \n",
            "=================================================================\n",
            "Total params: 33,121\n",
            "Trainable params: 33,121\n",
            "Non-trainable params: 0\n",
            "_________________________________________________________________\n"
          ]
        }
      ]
    },
    {
      "cell_type": "code",
      "metadata": {
        "id": "YdubTd_ViHz4",
        "colab": {
          "base_uri": "https://localhost:8080/"
        },
        "outputId": "a8219376-9b8b-4989-f942-13016c438ba7"
      },
      "source": [
        "dropout_history = dropout_model.fit(\n",
        "    x_train,\n",
        "    y_train,\n",
        "    epochs = 5,\n",
        "    batch_size = 512,\n",
        "    validation_data = (x_test, y_test),\n",
        "    verbose = 1\n",
        ")"
      ],
      "execution_count": 20,
      "outputs": [
        {
          "output_type": "stream",
          "name": "stdout",
          "text": [
            "Epoch 1/5\n",
            "49/49 [==============================] - 1s 14ms/step - loss: 0.6919 - accuracy: 0.5493 - val_loss: 0.6461 - val_accuracy: 0.7175\n",
            "Epoch 2/5\n",
            "49/49 [==============================] - 0s 9ms/step - loss: 0.5966 - accuracy: 0.6800 - val_loss: 0.4842 - val_accuracy: 0.7976\n",
            "Epoch 3/5\n",
            "49/49 [==============================] - 0s 9ms/step - loss: 0.5063 - accuracy: 0.7613 - val_loss: 0.4234 - val_accuracy: 0.8116\n",
            "Epoch 4/5\n",
            "49/49 [==============================] - 0s 9ms/step - loss: 0.4580 - accuracy: 0.7950 - val_loss: 0.3937 - val_accuracy: 0.8228\n",
            "Epoch 5/5\n",
            "49/49 [==============================] - 0s 10ms/step - loss: 0.4326 - accuracy: 0.8134 - val_loss: 0.3846 - val_accuracy: 0.8275\n"
          ]
        }
      ]
    },
    {
      "cell_type": "code",
      "metadata": {
        "id": "Wan5Jqhui3Rm",
        "colab": {
          "base_uri": "https://localhost:8080/",
          "height": 541
        },
        "outputId": "4c6ed32e-cec6-40d6-90bf-162c84804f6d"
      },
      "source": [
        "plot_history(dropout_history,['accuracy','val_accuracy'])\n",
        "plot_history(dropout_history,['loss','val_loss'])"
      ],
      "execution_count": 21,
      "outputs": [
        {
          "output_type": "display_data",
          "data": {
            "text/plain": [
              "<Figure size 432x288 with 1 Axes>"
            ],
            "image/png": "[encoded data removed]"
          },
          "metadata": {
            "needs_background": "light"
          }
        },
        {
          "output_type": "display_data",
          "data": {
            "text/plain": [
              "<Figure size 432x288 with 1 Axes>"
            ],
            "image/png": "[encoded data removed]"
          },
          "metadata": {
            "needs_background": "light"
          }
        }
      ]
    },
    {
      "cell_type": "code",
      "metadata": {
        "id": "LGylsBlkqgsr"
      },
      "source": [
        "seq = Input(shape=(num_words,))\n",
        "x = Dense(64, activation='relu', kernel_regularizer=regularizers.l2(0.005))(seq)\n",
        "x = Dropout(0.5)(x)\n",
        "x = Dense(16, activation='relu', kernel_regularizer=regularizers.l2(0.005))(x)\n",
        "x = Dropout(0.5)(x)\n",
        "x = Dense(1, activation='sigmoid')(x)\n",
        "\n",
        "mixed_model = Model(seq, x)"
      ],
      "execution_count": 22,
      "outputs": []
    },
    {
      "cell_type": "code",
      "metadata": {
        "id": "gD69SdvUrWD_",
        "colab": {
          "base_uri": "https://localhost:8080/"
        },
        "outputId": "f09e5549-f08a-4cd6-876f-040b156a8d00"
      },
      "source": [
        "adam = optimizers.Adam(lr=0.001)\n",
        "mixed_model.compile(optimizer=adam, loss='binary_crossentropy', metrics=['accuracy'])"
      ],
      "execution_count": 23,
      "outputs": [
        {
          "output_type": "stream",
          "name": "stderr",
          "text": [
            "/usr/local/lib/python3.9/dist-packages/keras/optimizers/optimizer_v2/adam.py:117: UserWarning: The `lr` argument is deprecated, use `learning_rate` instead.\n",
            "  super().__init__(name, **kwargs)\n"
          ]
        }
      ]
    },
    {
      "cell_type": "code",
      "metadata": {
        "id": "MwsSSHyargi6",
        "colab": {
          "base_uri": "https://localhost:8080/"
        },
        "outputId": "508749a4-6e04-4a76-ef8a-2e07bba8d6f6"
      },
      "source": [
        "mixed_history = mixed_model.fit(\n",
        "    x_train,\n",
        "    y_train,\n",
        "    epochs = 5,\n",
        "    batch_size = 512,\n",
        "    validation_data = (x_test, y_test),\n",
        "    verbose = 2\n",
        ")"
      ],
      "execution_count": 24,
      "outputs": [
        {
          "output_type": "stream",
          "name": "stdout",
          "text": [
            "Epoch 1/5\n",
            "49/49 - 2s - loss: 1.1976 - accuracy: 0.5569 - val_loss: 0.9617 - val_accuracy: 0.7445 - 2s/epoch - 31ms/step\n",
            "Epoch 2/5\n",
            "49/49 - 1s - loss: 0.8316 - accuracy: 0.7120 - val_loss: 0.6529 - val_accuracy: 0.8144 - 762ms/epoch - 16ms/step\n",
            "Epoch 3/5\n",
            "49/49 - 1s - loss: 0.6375 - accuracy: 0.7880 - val_loss: 0.5435 - val_accuracy: 0.8264 - 625ms/epoch - 13ms/step\n",
            "Epoch 4/5\n",
            "49/49 - 1s - loss: 0.5608 - accuracy: 0.8106 - val_loss: 0.4970 - val_accuracy: 0.8307 - 536ms/epoch - 11ms/step\n",
            "Epoch 5/5\n",
            "49/49 - 0s - loss: 0.5224 - accuracy: 0.8177 - val_loss: 0.4771 - val_accuracy: 0.8303 - 426ms/epoch - 9ms/step\n"
          ]
        }
      ]
    },
    {
      "cell_type": "markdown",
      "metadata": {
        "id": "xQPVeOrtM8Lf"
      },
      "source": [
        "# Early stopping"
      ]
    },
    {
      "cell_type": "markdown",
      "metadata": {
        "id": "RGRc8KPkS5cN"
      },
      "source": [
        "Early stopping is a method that allows you to stop training as soon as the model performance stops improving on the validation dataset.\n",
        "\n",
        "This requires that a validation set must be provided to the fit() function. \n",
        "\n",
        "Early stopping can be simply implemented in keras using callbacks.\n",
        "A callback is a function taht is called at specific stages of the training procedure: start/end of epochs, start end of minibatches, etc. \n",
        "\n",
        "You can use callbacks to get a view on internal states and statistics of the model during training. A list of callbacks can be passed to the .fit() function using the keyword argument \"callbacks\". "
      ]
    },
    {
      "cell_type": "code",
      "metadata": {
        "id": "x-ZKC8eqNAxd"
      },
      "source": [
        "from keras.callbacks import EarlyStopping, ModelCheckpoint\n",
        "import os \n",
        "\n",
        "saveDir = os.path.join(os.getcwd(), 'saved_models')\n",
        "if not os.path.isdir(saveDir):\n",
        "    os.makedirs(saveDir)\n",
        "\n",
        "#mixed_model.load_weights(saveDir + 'Cifar10_to256.hdf5')\n",
        "\n",
        "es_cb = EarlyStopping(monitor='val_loss', patience=3, verbose=1, mode='auto')\n",
        "chkpt = saveDir + 'Cifar10_to256.hdf5'\n",
        "\n",
        "cp_cb = ModelCheckpoint(filepath = chkpt, monitor='val_loss', verbose=1, save_best_only=True, mode='auto')"
      ],
      "execution_count": 25,
      "outputs": []
    },
    {
      "cell_type": "code",
      "metadata": {
        "id": "qvoIFERUP7Wl",
        "colab": {
          "base_uri": "https://localhost:8080/"
        },
        "outputId": "3bc7a7ca-434f-412c-cb5b-efee75f8b4be"
      },
      "source": [
        "mixed_model.fit(x_train, y_train,\n",
        "                batch_size=512, #batch_size,\n",
        "                epochs= 20,\n",
        "                verbose=1,\n",
        "                validation_data=(x_test,y_test),\n",
        "                callbacks=[es_cb, cp_cb],\n",
        "                shuffle=True)"
      ],
      "execution_count": 26,
      "outputs": [
        {
          "output_type": "stream",
          "name": "stdout",
          "text": [
            "Epoch 1/20\n",
            "45/49 [==========================>...] - ETA: 0s - loss: 0.5006 - accuracy: 0.8232\n",
            "Epoch 1: val_loss improved from inf to 0.46518, saving model to /content/saved_modelsCifar10_to256.hdf5\n",
            "49/49 [==============================] - 1s 12ms/step - loss: 0.5013 - accuracy: 0.8228 - val_loss: 0.4652 - val_accuracy: 0.8300\n",
            "Epoch 2/20\n",
            "45/49 [==========================>...] - ETA: 0s - loss: 0.4855 - accuracy: 0.8231\n",
            "Epoch 2: val_loss improved from 0.46518 to 0.45244, saving model to /content/saved_modelsCifar10_to256.hdf5\n",
            "49/49 [==============================] - 0s 9ms/step - loss: 0.4854 - accuracy: 0.8228 - val_loss: 0.4524 - val_accuracy: 0.8323\n",
            "Epoch 3/20\n",
            "45/49 [==========================>...] - ETA: 0s - loss: 0.4742 - accuracy: 0.8262\n",
            "Epoch 3: val_loss improved from 0.45244 to 0.44828, saving model to /content/saved_modelsCifar10_to256.hdf5\n",
            "49/49 [==============================] - 0s 9ms/step - loss: 0.4747 - accuracy: 0.8260 - val_loss: 0.4483 - val_accuracy: 0.8326\n",
            "Epoch 4/20\n",
            "44/49 [=========================>....] - ETA: 0s - loss: 0.4682 - accuracy: 0.8268\n",
            "Epoch 4: val_loss improved from 0.44828 to 0.44246, saving model to /content/saved_modelsCifar10_to256.hdf5\n",
            "49/49 [==============================] - 1s 11ms/step - loss: 0.4688 - accuracy: 0.8268 - val_loss: 0.4425 - val_accuracy: 0.8329\n",
            "Epoch 5/20\n",
            "43/49 [=========================>....] - ETA: 0s - loss: 0.4612 - accuracy: 0.8306\n",
            "Epoch 5: val_loss did not improve from 0.44246\n",
            "49/49 [==============================] - 0s 10ms/step - loss: 0.4621 - accuracy: 0.8291 - val_loss: 0.4442 - val_accuracy: 0.8312\n",
            "Epoch 6/20\n",
            "44/49 [=========================>....] - ETA: 0s - loss: 0.4593 - accuracy: 0.8295\n",
            "Epoch 6: val_loss improved from 0.44246 to 0.44032, saving model to /content/saved_modelsCifar10_to256.hdf5\n",
            "49/49 [==============================] - 1s 10ms/step - loss: 0.4599 - accuracy: 0.8293 - val_loss: 0.4403 - val_accuracy: 0.8314\n",
            "Epoch 7/20\n",
            "44/49 [=========================>....] - ETA: 0s - loss: 0.4544 - accuracy: 0.8318\n",
            "Epoch 7: val_loss improved from 0.44032 to 0.44012, saving model to /content/saved_modelsCifar10_to256.hdf5\n",
            "49/49 [==============================] - 0s 10ms/step - loss: 0.4550 - accuracy: 0.8318 - val_loss: 0.4401 - val_accuracy: 0.8292\n",
            "Epoch 8/20\n",
            "48/49 [============================>.] - ETA: 0s - loss: 0.4535 - accuracy: 0.8273\n",
            "Epoch 8: val_loss improved from 0.44012 to 0.43281, saving model to /content/saved_modelsCifar10_to256.hdf5\n",
            "49/49 [==============================] - 0s 10ms/step - loss: 0.4535 - accuracy: 0.8271 - val_loss: 0.4328 - val_accuracy: 0.8323\n",
            "Epoch 9/20\n",
            "43/49 [=========================>....] - ETA: 0s - loss: 0.4470 - accuracy: 0.8323\n",
            "Epoch 9: val_loss did not improve from 0.43281\n",
            "49/49 [==============================] - 0s 9ms/step - loss: 0.4501 - accuracy: 0.8300 - val_loss: 0.4430 - val_accuracy: 0.8265\n",
            "Epoch 10/20\n",
            "46/49 [===========================>..] - ETA: 0s - loss: 0.4494 - accuracy: 0.8308\n",
            "Epoch 10: val_loss improved from 0.43281 to 0.43066, saving model to /content/saved_modelsCifar10_to256.hdf5\n",
            "49/49 [==============================] - 0s 10ms/step - loss: 0.4498 - accuracy: 0.8302 - val_loss: 0.4307 - val_accuracy: 0.8319\n",
            "Epoch 11/20\n",
            "45/49 [==========================>...] - ETA: 0s - loss: 0.4488 - accuracy: 0.8324\n",
            "Epoch 11: val_loss improved from 0.43066 to 0.42979, saving model to /content/saved_modelsCifar10_to256.hdf5\n",
            "49/49 [==============================] - 0s 10ms/step - loss: 0.4498 - accuracy: 0.8312 - val_loss: 0.4298 - val_accuracy: 0.8340\n",
            "Epoch 12/20\n",
            "46/49 [===========================>..] - ETA: 0s - loss: 0.4439 - accuracy: 0.8339\n",
            "Epoch 12: val_loss improved from 0.42979 to 0.42808, saving model to /content/saved_modelsCifar10_to256.hdf5\n",
            "49/49 [==============================] - 0s 9ms/step - loss: 0.4439 - accuracy: 0.8332 - val_loss: 0.4281 - val_accuracy: 0.8326\n",
            "Epoch 13/20\n",
            "44/49 [=========================>....] - ETA: 0s - loss: 0.4432 - accuracy: 0.8313\n",
            "Epoch 13: val_loss did not improve from 0.42808\n",
            "49/49 [==============================] - 0s 10ms/step - loss: 0.4445 - accuracy: 0.8312 - val_loss: 0.4324 - val_accuracy: 0.8320\n",
            "Epoch 14/20\n",
            "46/49 [===========================>..] - ETA: 0s - loss: 0.4456 - accuracy: 0.8336\n",
            "Epoch 14: val_loss did not improve from 0.42808\n",
            "49/49 [==============================] - 0s 8ms/step - loss: 0.4461 - accuracy: 0.8337 - val_loss: 0.4283 - val_accuracy: 0.8326\n",
            "Epoch 15/20\n",
            "46/49 [===========================>..] - ETA: 0s - loss: 0.4395 - accuracy: 0.8363\n",
            "Epoch 15: val_loss did not improve from 0.42808\n",
            "49/49 [==============================] - 0s 10ms/step - loss: 0.4392 - accuracy: 0.8362 - val_loss: 0.4312 - val_accuracy: 0.8297\n",
            "Epoch 15: early stopping\n"
          ]
        },
        {
          "output_type": "execute_result",
          "data": {
            "text/plain": [
              "<keras.callbacks.History at 0x7f0ce46fa040>"
            ]
          },
          "metadata": {},
          "execution_count": 26
        }
      ]
    },
    {
      "cell_type": "code",
      "metadata": {
        "id": "zLIxE8L6RTRk",
        "colab": {
          "base_uri": "https://localhost:8080/"
        },
        "outputId": "39b54ca3-7db1-47ae-f194-54946808b78b"
      },
      "source": [
        "loss,acc = mixed_model.evaluate(x_test,y_test)\n",
        "print(\"test loss = \", loss)\n",
        "print(\"test accuracy = \", acc)"
      ],
      "execution_count": 27,
      "outputs": [
        {
          "output_type": "stream",
          "name": "stdout",
          "text": [
            "782/782 [==============================] - 2s 2ms/step - loss: 0.4312 - accuracy: 0.8297\n",
            "test loss =  0.43117788434028625\n",
            "test accuracy =  0.8297200202941895\n"
          ]
        }
      ]
    }
  ]
}